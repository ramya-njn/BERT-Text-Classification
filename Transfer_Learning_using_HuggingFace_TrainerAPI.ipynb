{
  "nbformat": 4,
  "nbformat_minor": 0,
  "metadata": {
    "colab": {
      "provenance": [],
      "gpuType": "T4",
      "authorship_tag": "ABX9TyNZG8gTtNC6LLXHSdgNZxQt",
      "include_colab_link": true
    },
    "kernelspec": {
      "name": "python3",
      "display_name": "Python 3"
    },
    "language_info": {
      "name": "python"
    },
    "accelerator": "GPU",
    "widgets": {
      "application/vnd.jupyter.widget-state+json": {
        "8aca81e792f84426bca72a69d4b155b7": {
          "model_module": "@jupyter-widgets/controls",
          "model_name": "HBoxModel",
          "model_module_version": "1.5.0",
          "state": {
            "_dom_classes": [],
            "_model_module": "@jupyter-widgets/controls",
            "_model_module_version": "1.5.0",
            "_model_name": "HBoxModel",
            "_view_count": null,
            "_view_module": "@jupyter-widgets/controls",
            "_view_module_version": "1.5.0",
            "_view_name": "HBoxView",
            "box_style": "",
            "children": [
              "IPY_MODEL_18f2bcc076f94fe5ba76642623b50fe3",
              "IPY_MODEL_5dd562c1739b4a8ea739d01e19ab957a",
              "IPY_MODEL_1f6b25a96e3844f296569bc90cc91b2a"
            ],
            "layout": "IPY_MODEL_3cfc33aeba5148b2bc2597d379b3b927"
          }
        },
        "18f2bcc076f94fe5ba76642623b50fe3": {
          "model_module": "@jupyter-widgets/controls",
          "model_name": "HTMLModel",
          "model_module_version": "1.5.0",
          "state": {
            "_dom_classes": [],
            "_model_module": "@jupyter-widgets/controls",
            "_model_module_version": "1.5.0",
            "_model_name": "HTMLModel",
            "_view_count": null,
            "_view_module": "@jupyter-widgets/controls",
            "_view_module_version": "1.5.0",
            "_view_name": "HTMLView",
            "description": "",
            "description_tooltip": null,
            "layout": "IPY_MODEL_923d0213320347c8beae9ba9edd048ea",
            "placeholder": "​",
            "style": "IPY_MODEL_1ff5920132944980811e908e0fd2ea99",
            "value": "Map: 100%"
          }
        },
        "5dd562c1739b4a8ea739d01e19ab957a": {
          "model_module": "@jupyter-widgets/controls",
          "model_name": "FloatProgressModel",
          "model_module_version": "1.5.0",
          "state": {
            "_dom_classes": [],
            "_model_module": "@jupyter-widgets/controls",
            "_model_module_version": "1.5.0",
            "_model_name": "FloatProgressModel",
            "_view_count": null,
            "_view_module": "@jupyter-widgets/controls",
            "_view_module_version": "1.5.0",
            "_view_name": "ProgressView",
            "bar_style": "success",
            "description": "",
            "description_tooltip": null,
            "layout": "IPY_MODEL_b26752b97e6141efb813fb848435dbdf",
            "max": 800,
            "min": 0,
            "orientation": "horizontal",
            "style": "IPY_MODEL_b76e31c979464febb83bdc2c75a0ee4e",
            "value": 800
          }
        },
        "1f6b25a96e3844f296569bc90cc91b2a": {
          "model_module": "@jupyter-widgets/controls",
          "model_name": "HTMLModel",
          "model_module_version": "1.5.0",
          "state": {
            "_dom_classes": [],
            "_model_module": "@jupyter-widgets/controls",
            "_model_module_version": "1.5.0",
            "_model_name": "HTMLModel",
            "_view_count": null,
            "_view_module": "@jupyter-widgets/controls",
            "_view_module_version": "1.5.0",
            "_view_name": "HTMLView",
            "description": "",
            "description_tooltip": null,
            "layout": "IPY_MODEL_f060b28c04274e32987b065d47e36a67",
            "placeholder": "​",
            "style": "IPY_MODEL_ee659d574ca8495e9bea9db67f5744c9",
            "value": " 800/800 [00:00&lt;00:00, 3192.61 examples/s]"
          }
        },
        "3cfc33aeba5148b2bc2597d379b3b927": {
          "model_module": "@jupyter-widgets/base",
          "model_name": "LayoutModel",
          "model_module_version": "1.2.0",
          "state": {
            "_model_module": "@jupyter-widgets/base",
            "_model_module_version": "1.2.0",
            "_model_name": "LayoutModel",
            "_view_count": null,
            "_view_module": "@jupyter-widgets/base",
            "_view_module_version": "1.2.0",
            "_view_name": "LayoutView",
            "align_content": null,
            "align_items": null,
            "align_self": null,
            "border": null,
            "bottom": null,
            "display": null,
            "flex": null,
            "flex_flow": null,
            "grid_area": null,
            "grid_auto_columns": null,
            "grid_auto_flow": null,
            "grid_auto_rows": null,
            "grid_column": null,
            "grid_gap": null,
            "grid_row": null,
            "grid_template_areas": null,
            "grid_template_columns": null,
            "grid_template_rows": null,
            "height": null,
            "justify_content": null,
            "justify_items": null,
            "left": null,
            "margin": null,
            "max_height": null,
            "max_width": null,
            "min_height": null,
            "min_width": null,
            "object_fit": null,
            "object_position": null,
            "order": null,
            "overflow": null,
            "overflow_x": null,
            "overflow_y": null,
            "padding": null,
            "right": null,
            "top": null,
            "visibility": null,
            "width": null
          }
        },
        "923d0213320347c8beae9ba9edd048ea": {
          "model_module": "@jupyter-widgets/base",
          "model_name": "LayoutModel",
          "model_module_version": "1.2.0",
          "state": {
            "_model_module": "@jupyter-widgets/base",
            "_model_module_version": "1.2.0",
            "_model_name": "LayoutModel",
            "_view_count": null,
            "_view_module": "@jupyter-widgets/base",
            "_view_module_version": "1.2.0",
            "_view_name": "LayoutView",
            "align_content": null,
            "align_items": null,
            "align_self": null,
            "border": null,
            "bottom": null,
            "display": null,
            "flex": null,
            "flex_flow": null,
            "grid_area": null,
            "grid_auto_columns": null,
            "grid_auto_flow": null,
            "grid_auto_rows": null,
            "grid_column": null,
            "grid_gap": null,
            "grid_row": null,
            "grid_template_areas": null,
            "grid_template_columns": null,
            "grid_template_rows": null,
            "height": null,
            "justify_content": null,
            "justify_items": null,
            "left": null,
            "margin": null,
            "max_height": null,
            "max_width": null,
            "min_height": null,
            "min_width": null,
            "object_fit": null,
            "object_position": null,
            "order": null,
            "overflow": null,
            "overflow_x": null,
            "overflow_y": null,
            "padding": null,
            "right": null,
            "top": null,
            "visibility": null,
            "width": null
          }
        },
        "1ff5920132944980811e908e0fd2ea99": {
          "model_module": "@jupyter-widgets/controls",
          "model_name": "DescriptionStyleModel",
          "model_module_version": "1.5.0",
          "state": {
            "_model_module": "@jupyter-widgets/controls",
            "_model_module_version": "1.5.0",
            "_model_name": "DescriptionStyleModel",
            "_view_count": null,
            "_view_module": "@jupyter-widgets/base",
            "_view_module_version": "1.2.0",
            "_view_name": "StyleView",
            "description_width": ""
          }
        },
        "b26752b97e6141efb813fb848435dbdf": {
          "model_module": "@jupyter-widgets/base",
          "model_name": "LayoutModel",
          "model_module_version": "1.2.0",
          "state": {
            "_model_module": "@jupyter-widgets/base",
            "_model_module_version": "1.2.0",
            "_model_name": "LayoutModel",
            "_view_count": null,
            "_view_module": "@jupyter-widgets/base",
            "_view_module_version": "1.2.0",
            "_view_name": "LayoutView",
            "align_content": null,
            "align_items": null,
            "align_self": null,
            "border": null,
            "bottom": null,
            "display": null,
            "flex": null,
            "flex_flow": null,
            "grid_area": null,
            "grid_auto_columns": null,
            "grid_auto_flow": null,
            "grid_auto_rows": null,
            "grid_column": null,
            "grid_gap": null,
            "grid_row": null,
            "grid_template_areas": null,
            "grid_template_columns": null,
            "grid_template_rows": null,
            "height": null,
            "justify_content": null,
            "justify_items": null,
            "left": null,
            "margin": null,
            "max_height": null,
            "max_width": null,
            "min_height": null,
            "min_width": null,
            "object_fit": null,
            "object_position": null,
            "order": null,
            "overflow": null,
            "overflow_x": null,
            "overflow_y": null,
            "padding": null,
            "right": null,
            "top": null,
            "visibility": null,
            "width": null
          }
        },
        "b76e31c979464febb83bdc2c75a0ee4e": {
          "model_module": "@jupyter-widgets/controls",
          "model_name": "ProgressStyleModel",
          "model_module_version": "1.5.0",
          "state": {
            "_model_module": "@jupyter-widgets/controls",
            "_model_module_version": "1.5.0",
            "_model_name": "ProgressStyleModel",
            "_view_count": null,
            "_view_module": "@jupyter-widgets/base",
            "_view_module_version": "1.2.0",
            "_view_name": "StyleView",
            "bar_color": null,
            "description_width": ""
          }
        },
        "f060b28c04274e32987b065d47e36a67": {
          "model_module": "@jupyter-widgets/base",
          "model_name": "LayoutModel",
          "model_module_version": "1.2.0",
          "state": {
            "_model_module": "@jupyter-widgets/base",
            "_model_module_version": "1.2.0",
            "_model_name": "LayoutModel",
            "_view_count": null,
            "_view_module": "@jupyter-widgets/base",
            "_view_module_version": "1.2.0",
            "_view_name": "LayoutView",
            "align_content": null,
            "align_items": null,
            "align_self": null,
            "border": null,
            "bottom": null,
            "display": null,
            "flex": null,
            "flex_flow": null,
            "grid_area": null,
            "grid_auto_columns": null,
            "grid_auto_flow": null,
            "grid_auto_rows": null,
            "grid_column": null,
            "grid_gap": null,
            "grid_row": null,
            "grid_template_areas": null,
            "grid_template_columns": null,
            "grid_template_rows": null,
            "height": null,
            "justify_content": null,
            "justify_items": null,
            "left": null,
            "margin": null,
            "max_height": null,
            "max_width": null,
            "min_height": null,
            "min_width": null,
            "object_fit": null,
            "object_position": null,
            "order": null,
            "overflow": null,
            "overflow_x": null,
            "overflow_y": null,
            "padding": null,
            "right": null,
            "top": null,
            "visibility": null,
            "width": null
          }
        },
        "ee659d574ca8495e9bea9db67f5744c9": {
          "model_module": "@jupyter-widgets/controls",
          "model_name": "DescriptionStyleModel",
          "model_module_version": "1.5.0",
          "state": {
            "_model_module": "@jupyter-widgets/controls",
            "_model_module_version": "1.5.0",
            "_model_name": "DescriptionStyleModel",
            "_view_count": null,
            "_view_module": "@jupyter-widgets/base",
            "_view_module_version": "1.2.0",
            "_view_name": "StyleView",
            "description_width": ""
          }
        },
        "6701932ded6146c48e8a281b43421b5d": {
          "model_module": "@jupyter-widgets/controls",
          "model_name": "HBoxModel",
          "model_module_version": "1.5.0",
          "state": {
            "_dom_classes": [],
            "_model_module": "@jupyter-widgets/controls",
            "_model_module_version": "1.5.0",
            "_model_name": "HBoxModel",
            "_view_count": null,
            "_view_module": "@jupyter-widgets/controls",
            "_view_module_version": "1.5.0",
            "_view_name": "HBoxView",
            "box_style": "",
            "children": [
              "IPY_MODEL_88131e820fbf40a594dac32ff5a3e75c",
              "IPY_MODEL_32a70f78af0e4bcb942c70998160ba29",
              "IPY_MODEL_b448c060d30045de9b05e4c6bfde33ae"
            ],
            "layout": "IPY_MODEL_59b75863455b42cc823b4a6960dc47b3"
          }
        },
        "88131e820fbf40a594dac32ff5a3e75c": {
          "model_module": "@jupyter-widgets/controls",
          "model_name": "HTMLModel",
          "model_module_version": "1.5.0",
          "state": {
            "_dom_classes": [],
            "_model_module": "@jupyter-widgets/controls",
            "_model_module_version": "1.5.0",
            "_model_name": "HTMLModel",
            "_view_count": null,
            "_view_module": "@jupyter-widgets/controls",
            "_view_module_version": "1.5.0",
            "_view_name": "HTMLView",
            "description": "",
            "description_tooltip": null,
            "layout": "IPY_MODEL_5eeb17190b374e11bcaef8a537eee9d5",
            "placeholder": "​",
            "style": "IPY_MODEL_3c28b683cbe843a693a4a989233d6c85",
            "value": "Map: 100%"
          }
        },
        "32a70f78af0e4bcb942c70998160ba29": {
          "model_module": "@jupyter-widgets/controls",
          "model_name": "FloatProgressModel",
          "model_module_version": "1.5.0",
          "state": {
            "_dom_classes": [],
            "_model_module": "@jupyter-widgets/controls",
            "_model_module_version": "1.5.0",
            "_model_name": "FloatProgressModel",
            "_view_count": null,
            "_view_module": "@jupyter-widgets/controls",
            "_view_module_version": "1.5.0",
            "_view_name": "ProgressView",
            "bar_style": "success",
            "description": "",
            "description_tooltip": null,
            "layout": "IPY_MODEL_9fc7018c7ffb456eb7026f795e38c9ee",
            "max": 200,
            "min": 0,
            "orientation": "horizontal",
            "style": "IPY_MODEL_b8e42540fe7c4f4aacd438b66bb84725",
            "value": 200
          }
        },
        "b448c060d30045de9b05e4c6bfde33ae": {
          "model_module": "@jupyter-widgets/controls",
          "model_name": "HTMLModel",
          "model_module_version": "1.5.0",
          "state": {
            "_dom_classes": [],
            "_model_module": "@jupyter-widgets/controls",
            "_model_module_version": "1.5.0",
            "_model_name": "HTMLModel",
            "_view_count": null,
            "_view_module": "@jupyter-widgets/controls",
            "_view_module_version": "1.5.0",
            "_view_name": "HTMLView",
            "description": "",
            "description_tooltip": null,
            "layout": "IPY_MODEL_868c6282583a45a5a291585a1e479bba",
            "placeholder": "​",
            "style": "IPY_MODEL_c5ebee4d0afc4f369eb600a50d563a38",
            "value": " 200/200 [00:00&lt;00:00, 1555.05 examples/s]"
          }
        },
        "59b75863455b42cc823b4a6960dc47b3": {
          "model_module": "@jupyter-widgets/base",
          "model_name": "LayoutModel",
          "model_module_version": "1.2.0",
          "state": {
            "_model_module": "@jupyter-widgets/base",
            "_model_module_version": "1.2.0",
            "_model_name": "LayoutModel",
            "_view_count": null,
            "_view_module": "@jupyter-widgets/base",
            "_view_module_version": "1.2.0",
            "_view_name": "LayoutView",
            "align_content": null,
            "align_items": null,
            "align_self": null,
            "border": null,
            "bottom": null,
            "display": null,
            "flex": null,
            "flex_flow": null,
            "grid_area": null,
            "grid_auto_columns": null,
            "grid_auto_flow": null,
            "grid_auto_rows": null,
            "grid_column": null,
            "grid_gap": null,
            "grid_row": null,
            "grid_template_areas": null,
            "grid_template_columns": null,
            "grid_template_rows": null,
            "height": null,
            "justify_content": null,
            "justify_items": null,
            "left": null,
            "margin": null,
            "max_height": null,
            "max_width": null,
            "min_height": null,
            "min_width": null,
            "object_fit": null,
            "object_position": null,
            "order": null,
            "overflow": null,
            "overflow_x": null,
            "overflow_y": null,
            "padding": null,
            "right": null,
            "top": null,
            "visibility": null,
            "width": null
          }
        },
        "5eeb17190b374e11bcaef8a537eee9d5": {
          "model_module": "@jupyter-widgets/base",
          "model_name": "LayoutModel",
          "model_module_version": "1.2.0",
          "state": {
            "_model_module": "@jupyter-widgets/base",
            "_model_module_version": "1.2.0",
            "_model_name": "LayoutModel",
            "_view_count": null,
            "_view_module": "@jupyter-widgets/base",
            "_view_module_version": "1.2.0",
            "_view_name": "LayoutView",
            "align_content": null,
            "align_items": null,
            "align_self": null,
            "border": null,
            "bottom": null,
            "display": null,
            "flex": null,
            "flex_flow": null,
            "grid_area": null,
            "grid_auto_columns": null,
            "grid_auto_flow": null,
            "grid_auto_rows": null,
            "grid_column": null,
            "grid_gap": null,
            "grid_row": null,
            "grid_template_areas": null,
            "grid_template_columns": null,
            "grid_template_rows": null,
            "height": null,
            "justify_content": null,
            "justify_items": null,
            "left": null,
            "margin": null,
            "max_height": null,
            "max_width": null,
            "min_height": null,
            "min_width": null,
            "object_fit": null,
            "object_position": null,
            "order": null,
            "overflow": null,
            "overflow_x": null,
            "overflow_y": null,
            "padding": null,
            "right": null,
            "top": null,
            "visibility": null,
            "width": null
          }
        },
        "3c28b683cbe843a693a4a989233d6c85": {
          "model_module": "@jupyter-widgets/controls",
          "model_name": "DescriptionStyleModel",
          "model_module_version": "1.5.0",
          "state": {
            "_model_module": "@jupyter-widgets/controls",
            "_model_module_version": "1.5.0",
            "_model_name": "DescriptionStyleModel",
            "_view_count": null,
            "_view_module": "@jupyter-widgets/base",
            "_view_module_version": "1.2.0",
            "_view_name": "StyleView",
            "description_width": ""
          }
        },
        "9fc7018c7ffb456eb7026f795e38c9ee": {
          "model_module": "@jupyter-widgets/base",
          "model_name": "LayoutModel",
          "model_module_version": "1.2.0",
          "state": {
            "_model_module": "@jupyter-widgets/base",
            "_model_module_version": "1.2.0",
            "_model_name": "LayoutModel",
            "_view_count": null,
            "_view_module": "@jupyter-widgets/base",
            "_view_module_version": "1.2.0",
            "_view_name": "LayoutView",
            "align_content": null,
            "align_items": null,
            "align_self": null,
            "border": null,
            "bottom": null,
            "display": null,
            "flex": null,
            "flex_flow": null,
            "grid_area": null,
            "grid_auto_columns": null,
            "grid_auto_flow": null,
            "grid_auto_rows": null,
            "grid_column": null,
            "grid_gap": null,
            "grid_row": null,
            "grid_template_areas": null,
            "grid_template_columns": null,
            "grid_template_rows": null,
            "height": null,
            "justify_content": null,
            "justify_items": null,
            "left": null,
            "margin": null,
            "max_height": null,
            "max_width": null,
            "min_height": null,
            "min_width": null,
            "object_fit": null,
            "object_position": null,
            "order": null,
            "overflow": null,
            "overflow_x": null,
            "overflow_y": null,
            "padding": null,
            "right": null,
            "top": null,
            "visibility": null,
            "width": null
          }
        },
        "b8e42540fe7c4f4aacd438b66bb84725": {
          "model_module": "@jupyter-widgets/controls",
          "model_name": "ProgressStyleModel",
          "model_module_version": "1.5.0",
          "state": {
            "_model_module": "@jupyter-widgets/controls",
            "_model_module_version": "1.5.0",
            "_model_name": "ProgressStyleModel",
            "_view_count": null,
            "_view_module": "@jupyter-widgets/base",
            "_view_module_version": "1.2.0",
            "_view_name": "StyleView",
            "bar_color": null,
            "description_width": ""
          }
        },
        "868c6282583a45a5a291585a1e479bba": {
          "model_module": "@jupyter-widgets/base",
          "model_name": "LayoutModel",
          "model_module_version": "1.2.0",
          "state": {
            "_model_module": "@jupyter-widgets/base",
            "_model_module_version": "1.2.0",
            "_model_name": "LayoutModel",
            "_view_count": null,
            "_view_module": "@jupyter-widgets/base",
            "_view_module_version": "1.2.0",
            "_view_name": "LayoutView",
            "align_content": null,
            "align_items": null,
            "align_self": null,
            "border": null,
            "bottom": null,
            "display": null,
            "flex": null,
            "flex_flow": null,
            "grid_area": null,
            "grid_auto_columns": null,
            "grid_auto_flow": null,
            "grid_auto_rows": null,
            "grid_column": null,
            "grid_gap": null,
            "grid_row": null,
            "grid_template_areas": null,
            "grid_template_columns": null,
            "grid_template_rows": null,
            "height": null,
            "justify_content": null,
            "justify_items": null,
            "left": null,
            "margin": null,
            "max_height": null,
            "max_width": null,
            "min_height": null,
            "min_width": null,
            "object_fit": null,
            "object_position": null,
            "order": null,
            "overflow": null,
            "overflow_x": null,
            "overflow_y": null,
            "padding": null,
            "right": null,
            "top": null,
            "visibility": null,
            "width": null
          }
        },
        "c5ebee4d0afc4f369eb600a50d563a38": {
          "model_module": "@jupyter-widgets/controls",
          "model_name": "DescriptionStyleModel",
          "model_module_version": "1.5.0",
          "state": {
            "_model_module": "@jupyter-widgets/controls",
            "_model_module_version": "1.5.0",
            "_model_name": "DescriptionStyleModel",
            "_view_count": null,
            "_view_module": "@jupyter-widgets/base",
            "_view_module_version": "1.2.0",
            "_view_name": "StyleView",
            "description_width": ""
          }
        }
      }
    }
  },
  "cells": [
    {
      "cell_type": "markdown",
      "metadata": {
        "id": "view-in-github",
        "colab_type": "text"
      },
      "source": [
        "<a href=\"https://colab.research.google.com/github/ramya-njn/Transformers-BERT-Fine-Tuning/blob/main/Transfer_Learning_using_HuggingFace_TrainerAPI.ipynb\" target=\"_parent\"><img src=\"https://colab.research.google.com/assets/colab-badge.svg\" alt=\"Open In Colab\"/></a>"
      ]
    },
    {
      "cell_type": "markdown",
      "source": [
        "### **Dataset** : https://archive.ics.uci.edu/ml/datasets/Sentiment+Labelled+Sentences, reviews data from amazon.com\n",
        "### **General Workflow**:\n",
        "### 1. Convert pandas dataframe into a Hugging Face Dataset\n",
        "### 2. Tokenize text, load a pretrained model, set training arguments, and train a transfer learning model\n",
        "### 3. Make predictions and evaluate the model performance of a fine-tuned transfer learning model for text classification\n",
        "### 4. Save and reload the model"
      ],
      "metadata": {
        "id": "LQ-_LShq9QDI"
      }
    },
    {
      "cell_type": "markdown",
      "source": [
        "# 1. Install and Import required Libraries"
      ],
      "metadata": {
        "id": "ZF-aSVebpyMc"
      }
    },
    {
      "cell_type": "code",
      "source": [
        "!pip install transformers\n",
        "!pip install datasets\n",
        "!pip install evaluate"
      ],
      "metadata": {
        "colab": {
          "base_uri": "https://localhost:8080/"
        },
        "id": "zQhVaesdqFpg",
        "outputId": "d91934f8-e648-4e60-bed5-48ecc99e9c5e"
      },
      "execution_count": null,
      "outputs": [
        {
          "output_type": "stream",
          "name": "stdout",
          "text": [
            "Requirement already satisfied: transformers in /usr/local/lib/python3.10/dist-packages (4.40.0)\n",
            "Requirement already satisfied: filelock in /usr/local/lib/python3.10/dist-packages (from transformers) (3.13.4)\n",
            "Requirement already satisfied: huggingface-hub<1.0,>=0.19.3 in /usr/local/lib/python3.10/dist-packages (from transformers) (0.22.2)\n",
            "Requirement already satisfied: numpy>=1.17 in /usr/local/lib/python3.10/dist-packages (from transformers) (1.25.2)\n",
            "Requirement already satisfied: packaging>=20.0 in /usr/local/lib/python3.10/dist-packages (from transformers) (24.0)\n",
            "Requirement already satisfied: pyyaml>=5.1 in /usr/local/lib/python3.10/dist-packages (from transformers) (6.0.1)\n",
            "Requirement already satisfied: regex!=2019.12.17 in /usr/local/lib/python3.10/dist-packages (from transformers) (2023.12.25)\n",
            "Requirement already satisfied: requests in /usr/local/lib/python3.10/dist-packages (from transformers) (2.31.0)\n",
            "Requirement already satisfied: tokenizers<0.20,>=0.19 in /usr/local/lib/python3.10/dist-packages (from transformers) (0.19.1)\n",
            "Requirement already satisfied: safetensors>=0.4.1 in /usr/local/lib/python3.10/dist-packages (from transformers) (0.4.3)\n",
            "Requirement already satisfied: tqdm>=4.27 in /usr/local/lib/python3.10/dist-packages (from transformers) (4.66.2)\n",
            "Requirement already satisfied: fsspec>=2023.5.0 in /usr/local/lib/python3.10/dist-packages (from huggingface-hub<1.0,>=0.19.3->transformers) (2023.6.0)\n",
            "Requirement already satisfied: typing-extensions>=3.7.4.3 in /usr/local/lib/python3.10/dist-packages (from huggingface-hub<1.0,>=0.19.3->transformers) (4.11.0)\n",
            "Requirement already satisfied: charset-normalizer<4,>=2 in /usr/local/lib/python3.10/dist-packages (from requests->transformers) (3.3.2)\n",
            "Requirement already satisfied: idna<4,>=2.5 in /usr/local/lib/python3.10/dist-packages (from requests->transformers) (3.7)\n",
            "Requirement already satisfied: urllib3<3,>=1.21.1 in /usr/local/lib/python3.10/dist-packages (from requests->transformers) (2.0.7)\n",
            "Requirement already satisfied: certifi>=2017.4.17 in /usr/local/lib/python3.10/dist-packages (from requests->transformers) (2024.2.2)\n",
            "Requirement already satisfied: datasets in /usr/local/lib/python3.10/dist-packages (2.19.0)\n",
            "Requirement already satisfied: filelock in /usr/local/lib/python3.10/dist-packages (from datasets) (3.13.4)\n",
            "Requirement already satisfied: numpy>=1.17 in /usr/local/lib/python3.10/dist-packages (from datasets) (1.25.2)\n",
            "Requirement already satisfied: pyarrow>=12.0.0 in /usr/local/lib/python3.10/dist-packages (from datasets) (14.0.2)\n",
            "Requirement already satisfied: pyarrow-hotfix in /usr/local/lib/python3.10/dist-packages (from datasets) (0.6)\n",
            "Requirement already satisfied: dill<0.3.9,>=0.3.0 in /usr/local/lib/python3.10/dist-packages (from datasets) (0.3.8)\n",
            "Requirement already satisfied: pandas in /usr/local/lib/python3.10/dist-packages (from datasets) (2.0.3)\n",
            "Requirement already satisfied: requests>=2.19.0 in /usr/local/lib/python3.10/dist-packages (from datasets) (2.31.0)\n",
            "Requirement already satisfied: tqdm>=4.62.1 in /usr/local/lib/python3.10/dist-packages (from datasets) (4.66.2)\n",
            "Requirement already satisfied: xxhash in /usr/local/lib/python3.10/dist-packages (from datasets) (3.4.1)\n",
            "Requirement already satisfied: multiprocess in /usr/local/lib/python3.10/dist-packages (from datasets) (0.70.16)\n",
            "Requirement already satisfied: fsspec[http]<=2024.3.1,>=2023.1.0 in /usr/local/lib/python3.10/dist-packages (from datasets) (2023.6.0)\n",
            "Requirement already satisfied: aiohttp in /usr/local/lib/python3.10/dist-packages (from datasets) (3.9.5)\n",
            "Requirement already satisfied: huggingface-hub>=0.21.2 in /usr/local/lib/python3.10/dist-packages (from datasets) (0.22.2)\n",
            "Requirement already satisfied: packaging in /usr/local/lib/python3.10/dist-packages (from datasets) (24.0)\n",
            "Requirement already satisfied: pyyaml>=5.1 in /usr/local/lib/python3.10/dist-packages (from datasets) (6.0.1)\n",
            "Requirement already satisfied: aiosignal>=1.1.2 in /usr/local/lib/python3.10/dist-packages (from aiohttp->datasets) (1.3.1)\n",
            "Requirement already satisfied: attrs>=17.3.0 in /usr/local/lib/python3.10/dist-packages (from aiohttp->datasets) (23.2.0)\n",
            "Requirement already satisfied: frozenlist>=1.1.1 in /usr/local/lib/python3.10/dist-packages (from aiohttp->datasets) (1.4.1)\n",
            "Requirement already satisfied: multidict<7.0,>=4.5 in /usr/local/lib/python3.10/dist-packages (from aiohttp->datasets) (6.0.5)\n",
            "Requirement already satisfied: yarl<2.0,>=1.0 in /usr/local/lib/python3.10/dist-packages (from aiohttp->datasets) (1.9.4)\n",
            "Requirement already satisfied: async-timeout<5.0,>=4.0 in /usr/local/lib/python3.10/dist-packages (from aiohttp->datasets) (4.0.3)\n",
            "Requirement already satisfied: typing-extensions>=3.7.4.3 in /usr/local/lib/python3.10/dist-packages (from huggingface-hub>=0.21.2->datasets) (4.11.0)\n",
            "Requirement already satisfied: charset-normalizer<4,>=2 in /usr/local/lib/python3.10/dist-packages (from requests>=2.19.0->datasets) (3.3.2)\n",
            "Requirement already satisfied: idna<4,>=2.5 in /usr/local/lib/python3.10/dist-packages (from requests>=2.19.0->datasets) (3.7)\n",
            "Requirement already satisfied: urllib3<3,>=1.21.1 in /usr/local/lib/python3.10/dist-packages (from requests>=2.19.0->datasets) (2.0.7)\n",
            "Requirement already satisfied: certifi>=2017.4.17 in /usr/local/lib/python3.10/dist-packages (from requests>=2.19.0->datasets) (2024.2.2)\n",
            "Requirement already satisfied: python-dateutil>=2.8.2 in /usr/local/lib/python3.10/dist-packages (from pandas->datasets) (2.8.2)\n",
            "Requirement already satisfied: pytz>=2020.1 in /usr/local/lib/python3.10/dist-packages (from pandas->datasets) (2023.4)\n",
            "Requirement already satisfied: tzdata>=2022.1 in /usr/local/lib/python3.10/dist-packages (from pandas->datasets) (2024.1)\n",
            "Requirement already satisfied: six>=1.5 in /usr/local/lib/python3.10/dist-packages (from python-dateutil>=2.8.2->pandas->datasets) (1.16.0)\n",
            "Requirement already satisfied: evaluate in /usr/local/lib/python3.10/dist-packages (0.4.1)\n",
            "Requirement already satisfied: datasets>=2.0.0 in /usr/local/lib/python3.10/dist-packages (from evaluate) (2.19.0)\n",
            "Requirement already satisfied: numpy>=1.17 in /usr/local/lib/python3.10/dist-packages (from evaluate) (1.25.2)\n",
            "Requirement already satisfied: dill in /usr/local/lib/python3.10/dist-packages (from evaluate) (0.3.8)\n",
            "Requirement already satisfied: pandas in /usr/local/lib/python3.10/dist-packages (from evaluate) (2.0.3)\n",
            "Requirement already satisfied: requests>=2.19.0 in /usr/local/lib/python3.10/dist-packages (from evaluate) (2.31.0)\n",
            "Requirement already satisfied: tqdm>=4.62.1 in /usr/local/lib/python3.10/dist-packages (from evaluate) (4.66.2)\n",
            "Requirement already satisfied: xxhash in /usr/local/lib/python3.10/dist-packages (from evaluate) (3.4.1)\n",
            "Requirement already satisfied: multiprocess in /usr/local/lib/python3.10/dist-packages (from evaluate) (0.70.16)\n",
            "Requirement already satisfied: fsspec[http]>=2021.05.0 in /usr/local/lib/python3.10/dist-packages (from evaluate) (2023.6.0)\n",
            "Requirement already satisfied: huggingface-hub>=0.7.0 in /usr/local/lib/python3.10/dist-packages (from evaluate) (0.22.2)\n",
            "Requirement already satisfied: packaging in /usr/local/lib/python3.10/dist-packages (from evaluate) (24.0)\n",
            "Requirement already satisfied: responses<0.19 in /usr/local/lib/python3.10/dist-packages (from evaluate) (0.18.0)\n",
            "Requirement already satisfied: filelock in /usr/local/lib/python3.10/dist-packages (from datasets>=2.0.0->evaluate) (3.13.4)\n",
            "Requirement already satisfied: pyarrow>=12.0.0 in /usr/local/lib/python3.10/dist-packages (from datasets>=2.0.0->evaluate) (14.0.2)\n",
            "Requirement already satisfied: pyarrow-hotfix in /usr/local/lib/python3.10/dist-packages (from datasets>=2.0.0->evaluate) (0.6)\n",
            "Requirement already satisfied: aiohttp in /usr/local/lib/python3.10/dist-packages (from datasets>=2.0.0->evaluate) (3.9.5)\n",
            "Requirement already satisfied: pyyaml>=5.1 in /usr/local/lib/python3.10/dist-packages (from datasets>=2.0.0->evaluate) (6.0.1)\n",
            "Requirement already satisfied: typing-extensions>=3.7.4.3 in /usr/local/lib/python3.10/dist-packages (from huggingface-hub>=0.7.0->evaluate) (4.11.0)\n",
            "Requirement already satisfied: charset-normalizer<4,>=2 in /usr/local/lib/python3.10/dist-packages (from requests>=2.19.0->evaluate) (3.3.2)\n",
            "Requirement already satisfied: idna<4,>=2.5 in /usr/local/lib/python3.10/dist-packages (from requests>=2.19.0->evaluate) (3.7)\n",
            "Requirement already satisfied: urllib3<3,>=1.21.1 in /usr/local/lib/python3.10/dist-packages (from requests>=2.19.0->evaluate) (2.0.7)\n",
            "Requirement already satisfied: certifi>=2017.4.17 in /usr/local/lib/python3.10/dist-packages (from requests>=2.19.0->evaluate) (2024.2.2)\n",
            "Requirement already satisfied: python-dateutil>=2.8.2 in /usr/local/lib/python3.10/dist-packages (from pandas->evaluate) (2.8.2)\n",
            "Requirement already satisfied: pytz>=2020.1 in /usr/local/lib/python3.10/dist-packages (from pandas->evaluate) (2023.4)\n",
            "Requirement already satisfied: tzdata>=2022.1 in /usr/local/lib/python3.10/dist-packages (from pandas->evaluate) (2024.1)\n",
            "Requirement already satisfied: aiosignal>=1.1.2 in /usr/local/lib/python3.10/dist-packages (from aiohttp->datasets>=2.0.0->evaluate) (1.3.1)\n",
            "Requirement already satisfied: attrs>=17.3.0 in /usr/local/lib/python3.10/dist-packages (from aiohttp->datasets>=2.0.0->evaluate) (23.2.0)\n",
            "Requirement already satisfied: frozenlist>=1.1.1 in /usr/local/lib/python3.10/dist-packages (from aiohttp->datasets>=2.0.0->evaluate) (1.4.1)\n",
            "Requirement already satisfied: multidict<7.0,>=4.5 in /usr/local/lib/python3.10/dist-packages (from aiohttp->datasets>=2.0.0->evaluate) (6.0.5)\n",
            "Requirement already satisfied: yarl<2.0,>=1.0 in /usr/local/lib/python3.10/dist-packages (from aiohttp->datasets>=2.0.0->evaluate) (1.9.4)\n",
            "Requirement already satisfied: async-timeout<5.0,>=4.0 in /usr/local/lib/python3.10/dist-packages (from aiohttp->datasets>=2.0.0->evaluate) (4.0.3)\n",
            "Requirement already satisfied: six>=1.5 in /usr/local/lib/python3.10/dist-packages (from python-dateutil>=2.8.2->pandas->evaluate) (1.16.0)\n"
          ]
        }
      ]
    },
    {
      "cell_type": "code",
      "source": [
        "!pip install accelerate -U"
      ],
      "metadata": {
        "colab": {
          "base_uri": "https://localhost:8080/"
        },
        "id": "CpNkrg3VzEir",
        "outputId": "219f349b-db77-4c85-e368-e1216089b379"
      },
      "execution_count": null,
      "outputs": [
        {
          "output_type": "stream",
          "name": "stdout",
          "text": [
            "Requirement already satisfied: accelerate in /usr/local/lib/python3.10/dist-packages (0.29.3)\n",
            "Requirement already satisfied: numpy>=1.17 in /usr/local/lib/python3.10/dist-packages (from accelerate) (1.25.2)\n",
            "Requirement already satisfied: packaging>=20.0 in /usr/local/lib/python3.10/dist-packages (from accelerate) (24.0)\n",
            "Requirement already satisfied: psutil in /usr/local/lib/python3.10/dist-packages (from accelerate) (5.9.5)\n",
            "Requirement already satisfied: pyyaml in /usr/local/lib/python3.10/dist-packages (from accelerate) (6.0.1)\n",
            "Requirement already satisfied: torch>=1.10.0 in /usr/local/lib/python3.10/dist-packages (from accelerate) (2.2.1+cu121)\n",
            "Requirement already satisfied: huggingface-hub in /usr/local/lib/python3.10/dist-packages (from accelerate) (0.22.2)\n",
            "Requirement already satisfied: safetensors>=0.3.1 in /usr/local/lib/python3.10/dist-packages (from accelerate) (0.4.3)\n",
            "Requirement already satisfied: filelock in /usr/local/lib/python3.10/dist-packages (from torch>=1.10.0->accelerate) (3.13.4)\n",
            "Requirement already satisfied: typing-extensions>=4.8.0 in /usr/local/lib/python3.10/dist-packages (from torch>=1.10.0->accelerate) (4.11.0)\n",
            "Requirement already satisfied: sympy in /usr/local/lib/python3.10/dist-packages (from torch>=1.10.0->accelerate) (1.12)\n",
            "Requirement already satisfied: networkx in /usr/local/lib/python3.10/dist-packages (from torch>=1.10.0->accelerate) (3.3)\n",
            "Requirement already satisfied: jinja2 in /usr/local/lib/python3.10/dist-packages (from torch>=1.10.0->accelerate) (3.1.3)\n",
            "Requirement already satisfied: fsspec in /usr/local/lib/python3.10/dist-packages (from torch>=1.10.0->accelerate) (2023.6.0)\n",
            "Requirement already satisfied: nvidia-cuda-nvrtc-cu12==12.1.105 in /usr/local/lib/python3.10/dist-packages (from torch>=1.10.0->accelerate) (12.1.105)\n",
            "Requirement already satisfied: nvidia-cuda-runtime-cu12==12.1.105 in /usr/local/lib/python3.10/dist-packages (from torch>=1.10.0->accelerate) (12.1.105)\n",
            "Requirement already satisfied: nvidia-cuda-cupti-cu12==12.1.105 in /usr/local/lib/python3.10/dist-packages (from torch>=1.10.0->accelerate) (12.1.105)\n",
            "Requirement already satisfied: nvidia-cudnn-cu12==8.9.2.26 in /usr/local/lib/python3.10/dist-packages (from torch>=1.10.0->accelerate) (8.9.2.26)\n",
            "Requirement already satisfied: nvidia-cublas-cu12==12.1.3.1 in /usr/local/lib/python3.10/dist-packages (from torch>=1.10.0->accelerate) (12.1.3.1)\n",
            "Requirement already satisfied: nvidia-cufft-cu12==11.0.2.54 in /usr/local/lib/python3.10/dist-packages (from torch>=1.10.0->accelerate) (11.0.2.54)\n",
            "Requirement already satisfied: nvidia-curand-cu12==10.3.2.106 in /usr/local/lib/python3.10/dist-packages (from torch>=1.10.0->accelerate) (10.3.2.106)\n",
            "Requirement already satisfied: nvidia-cusolver-cu12==11.4.5.107 in /usr/local/lib/python3.10/dist-packages (from torch>=1.10.0->accelerate) (11.4.5.107)\n",
            "Requirement already satisfied: nvidia-cusparse-cu12==12.1.0.106 in /usr/local/lib/python3.10/dist-packages (from torch>=1.10.0->accelerate) (12.1.0.106)\n",
            "Requirement already satisfied: nvidia-nccl-cu12==2.19.3 in /usr/local/lib/python3.10/dist-packages (from torch>=1.10.0->accelerate) (2.19.3)\n",
            "Requirement already satisfied: nvidia-nvtx-cu12==12.1.105 in /usr/local/lib/python3.10/dist-packages (from torch>=1.10.0->accelerate) (12.1.105)\n",
            "Requirement already satisfied: triton==2.2.0 in /usr/local/lib/python3.10/dist-packages (from torch>=1.10.0->accelerate) (2.2.0)\n",
            "Requirement already satisfied: nvidia-nvjitlink-cu12 in /usr/local/lib/python3.10/dist-packages (from nvidia-cusolver-cu12==11.4.5.107->torch>=1.10.0->accelerate) (12.4.127)\n",
            "Requirement already satisfied: requests in /usr/local/lib/python3.10/dist-packages (from huggingface-hub->accelerate) (2.31.0)\n",
            "Requirement already satisfied: tqdm>=4.42.1 in /usr/local/lib/python3.10/dist-packages (from huggingface-hub->accelerate) (4.66.2)\n",
            "Requirement already satisfied: MarkupSafe>=2.0 in /usr/local/lib/python3.10/dist-packages (from jinja2->torch>=1.10.0->accelerate) (2.1.5)\n",
            "Requirement already satisfied: charset-normalizer<4,>=2 in /usr/local/lib/python3.10/dist-packages (from requests->huggingface-hub->accelerate) (3.3.2)\n",
            "Requirement already satisfied: idna<4,>=2.5 in /usr/local/lib/python3.10/dist-packages (from requests->huggingface-hub->accelerate) (3.7)\n",
            "Requirement already satisfied: urllib3<3,>=1.21.1 in /usr/local/lib/python3.10/dist-packages (from requests->huggingface-hub->accelerate) (2.0.7)\n",
            "Requirement already satisfied: certifi>=2017.4.17 in /usr/local/lib/python3.10/dist-packages (from requests->huggingface-hub->accelerate) (2024.2.2)\n",
            "Requirement already satisfied: mpmath>=0.19 in /usr/local/lib/python3.10/dist-packages (from sympy->torch>=1.10.0->accelerate) (1.3.0)\n"
          ]
        }
      ]
    },
    {
      "cell_type": "code",
      "source": [
        "import os\n",
        "import numpy as np\n",
        "import pandas as pd\n",
        "import matplotlib.pyplot as plt\n",
        "import seaborn as sns\n",
        "\n",
        "import tensorflow as tf\n",
        "from transformers import AutoTokenizer, AutoModelForSequenceClassification, TrainingArguments, Trainer, EarlyStoppingCallback\n",
        "\n",
        "from datasets import Dataset\n",
        "\n",
        "import evaluate"
      ],
      "metadata": {
        "id": "1Zu7ZtaoDXzp"
      },
      "execution_count": null,
      "outputs": []
    },
    {
      "cell_type": "markdown",
      "source": [
        "# 2. Import and Read Data"
      ],
      "metadata": {
        "id": "DpxZe9kAqEwt"
      }
    },
    {
      "cell_type": "code",
      "source": [
        "from google.colab import drive\n",
        "drive.mount('/content/drive')"
      ],
      "metadata": {
        "colab": {
          "base_uri": "https://localhost:8080/"
        },
        "id": "C-_Y4uggqM1c",
        "outputId": "7ac3bbdc-9907-4878-d5be-234e1d4d9f60"
      },
      "execution_count": null,
      "outputs": [
        {
          "output_type": "stream",
          "name": "stdout",
          "text": [
            "Drive already mounted at /content/drive; to attempt to forcibly remount, call drive.mount(\"/content/drive\", force_remount=True).\n"
          ]
        }
      ]
    },
    {
      "cell_type": "code",
      "source": [
        "os.chdir('/content/drive/My Drive/Fine_Tuning_Transformer')"
      ],
      "metadata": {
        "id": "ZzSxGwoaFxns"
      },
      "execution_count": null,
      "outputs": []
    },
    {
      "cell_type": "code",
      "source": [
        "os.getcwd()"
      ],
      "metadata": {
        "colab": {
          "base_uri": "https://localhost:8080/",
          "height": 36
        },
        "id": "qMAkuFayGecV",
        "outputId": "aba259ce-b17f-400a-8e18-1971d8dfe202"
      },
      "execution_count": null,
      "outputs": [
        {
          "output_type": "execute_result",
          "data": {
            "text/plain": [
              "'/content/drive/My Drive/Fine_Tuning_Transformer'"
            ],
            "application/vnd.google.colaboratory.intrinsic+json": {
              "type": "string"
            }
          },
          "metadata": {},
          "execution_count": 6
        }
      ]
    },
    {
      "cell_type": "code",
      "source": [
        "data = pd.read_csv('amazon_cells_labelled.txt', sep = '\\t', names = ['review', 'label'])\n",
        "data.head()"
      ],
      "metadata": {
        "colab": {
          "base_uri": "https://localhost:8080/",
          "height": 206
        },
        "id": "GNtWp3wRG2L9",
        "outputId": "c96de6fb-b880-4484-ef3a-15f07a50246e"
      },
      "execution_count": null,
      "outputs": [
        {
          "output_type": "execute_result",
          "data": {
            "text/plain": [
              "                                              review  label\n",
              "0  So there is no way for me to plug it in here i...      0\n",
              "1                        Good case, Excellent value.      1\n",
              "2                             Great for the jawbone.      1\n",
              "3  Tied to charger for conversations lasting more...      0\n",
              "4                                  The mic is great.      1"
            ],
            "text/html": [
              "\n",
              "  <div id=\"df-f96e6db6-b4f6-410f-860d-b0f279c9fbd6\" class=\"colab-df-container\">\n",
              "    <div>\n",
              "<style scoped>\n",
              "    .dataframe tbody tr th:only-of-type {\n",
              "        vertical-align: middle;\n",
              "    }\n",
              "\n",
              "    .dataframe tbody tr th {\n",
              "        vertical-align: top;\n",
              "    }\n",
              "\n",
              "    .dataframe thead th {\n",
              "        text-align: right;\n",
              "    }\n",
              "</style>\n",
              "<table border=\"1\" class=\"dataframe\">\n",
              "  <thead>\n",
              "    <tr style=\"text-align: right;\">\n",
              "      <th></th>\n",
              "      <th>review</th>\n",
              "      <th>label</th>\n",
              "    </tr>\n",
              "  </thead>\n",
              "  <tbody>\n",
              "    <tr>\n",
              "      <th>0</th>\n",
              "      <td>So there is no way for me to plug it in here i...</td>\n",
              "      <td>0</td>\n",
              "    </tr>\n",
              "    <tr>\n",
              "      <th>1</th>\n",
              "      <td>Good case, Excellent value.</td>\n",
              "      <td>1</td>\n",
              "    </tr>\n",
              "    <tr>\n",
              "      <th>2</th>\n",
              "      <td>Great for the jawbone.</td>\n",
              "      <td>1</td>\n",
              "    </tr>\n",
              "    <tr>\n",
              "      <th>3</th>\n",
              "      <td>Tied to charger for conversations lasting more...</td>\n",
              "      <td>0</td>\n",
              "    </tr>\n",
              "    <tr>\n",
              "      <th>4</th>\n",
              "      <td>The mic is great.</td>\n",
              "      <td>1</td>\n",
              "    </tr>\n",
              "  </tbody>\n",
              "</table>\n",
              "</div>\n",
              "    <div class=\"colab-df-buttons\">\n",
              "\n",
              "  <div class=\"colab-df-container\">\n",
              "    <button class=\"colab-df-convert\" onclick=\"convertToInteractive('df-f96e6db6-b4f6-410f-860d-b0f279c9fbd6')\"\n",
              "            title=\"Convert this dataframe to an interactive table.\"\n",
              "            style=\"display:none;\">\n",
              "\n",
              "  <svg xmlns=\"http://www.w3.org/2000/svg\" height=\"24px\" viewBox=\"0 -960 960 960\">\n",
              "    <path d=\"M120-120v-720h720v720H120Zm60-500h600v-160H180v160Zm220 220h160v-160H400v160Zm0 220h160v-160H400v160ZM180-400h160v-160H180v160Zm440 0h160v-160H620v160ZM180-180h160v-160H180v160Zm440 0h160v-160H620v160Z\"/>\n",
              "  </svg>\n",
              "    </button>\n",
              "\n",
              "  <style>\n",
              "    .colab-df-container {\n",
              "      display:flex;\n",
              "      gap: 12px;\n",
              "    }\n",
              "\n",
              "    .colab-df-convert {\n",
              "      background-color: #E8F0FE;\n",
              "      border: none;\n",
              "      border-radius: 50%;\n",
              "      cursor: pointer;\n",
              "      display: none;\n",
              "      fill: #1967D2;\n",
              "      height: 32px;\n",
              "      padding: 0 0 0 0;\n",
              "      width: 32px;\n",
              "    }\n",
              "\n",
              "    .colab-df-convert:hover {\n",
              "      background-color: #E2EBFA;\n",
              "      box-shadow: 0px 1px 2px rgba(60, 64, 67, 0.3), 0px 1px 3px 1px rgba(60, 64, 67, 0.15);\n",
              "      fill: #174EA6;\n",
              "    }\n",
              "\n",
              "    .colab-df-buttons div {\n",
              "      margin-bottom: 4px;\n",
              "    }\n",
              "\n",
              "    [theme=dark] .colab-df-convert {\n",
              "      background-color: #3B4455;\n",
              "      fill: #D2E3FC;\n",
              "    }\n",
              "\n",
              "    [theme=dark] .colab-df-convert:hover {\n",
              "      background-color: #434B5C;\n",
              "      box-shadow: 0px 1px 3px 1px rgba(0, 0, 0, 0.15);\n",
              "      filter: drop-shadow(0px 1px 2px rgba(0, 0, 0, 0.3));\n",
              "      fill: #FFFFFF;\n",
              "    }\n",
              "  </style>\n",
              "\n",
              "    <script>\n",
              "      const buttonEl =\n",
              "        document.querySelector('#df-f96e6db6-b4f6-410f-860d-b0f279c9fbd6 button.colab-df-convert');\n",
              "      buttonEl.style.display =\n",
              "        google.colab.kernel.accessAllowed ? 'block' : 'none';\n",
              "\n",
              "      async function convertToInteractive(key) {\n",
              "        const element = document.querySelector('#df-f96e6db6-b4f6-410f-860d-b0f279c9fbd6');\n",
              "        const dataTable =\n",
              "          await google.colab.kernel.invokeFunction('convertToInteractive',\n",
              "                                                    [key], {});\n",
              "        if (!dataTable) return;\n",
              "\n",
              "        const docLinkHtml = 'Like what you see? Visit the ' +\n",
              "          '<a target=\"_blank\" href=https://colab.research.google.com/notebooks/data_table.ipynb>data table notebook</a>'\n",
              "          + ' to learn more about interactive tables.';\n",
              "        element.innerHTML = '';\n",
              "        dataTable['output_type'] = 'display_data';\n",
              "        await google.colab.output.renderOutput(dataTable, element);\n",
              "        const docLink = document.createElement('div');\n",
              "        docLink.innerHTML = docLinkHtml;\n",
              "        element.appendChild(docLink);\n",
              "      }\n",
              "    </script>\n",
              "  </div>\n",
              "\n",
              "\n",
              "<div id=\"df-08e5c35a-eb32-4155-902a-15715cd3afc4\">\n",
              "  <button class=\"colab-df-quickchart\" onclick=\"quickchart('df-08e5c35a-eb32-4155-902a-15715cd3afc4')\"\n",
              "            title=\"Suggest charts\"\n",
              "            style=\"display:none;\">\n",
              "\n",
              "<svg xmlns=\"http://www.w3.org/2000/svg\" height=\"24px\"viewBox=\"0 0 24 24\"\n",
              "     width=\"24px\">\n",
              "    <g>\n",
              "        <path d=\"M19 3H5c-1.1 0-2 .9-2 2v14c0 1.1.9 2 2 2h14c1.1 0 2-.9 2-2V5c0-1.1-.9-2-2-2zM9 17H7v-7h2v7zm4 0h-2V7h2v10zm4 0h-2v-4h2v4z\"/>\n",
              "    </g>\n",
              "</svg>\n",
              "  </button>\n",
              "\n",
              "<style>\n",
              "  .colab-df-quickchart {\n",
              "      --bg-color: #E8F0FE;\n",
              "      --fill-color: #1967D2;\n",
              "      --hover-bg-color: #E2EBFA;\n",
              "      --hover-fill-color: #174EA6;\n",
              "      --disabled-fill-color: #AAA;\n",
              "      --disabled-bg-color: #DDD;\n",
              "  }\n",
              "\n",
              "  [theme=dark] .colab-df-quickchart {\n",
              "      --bg-color: #3B4455;\n",
              "      --fill-color: #D2E3FC;\n",
              "      --hover-bg-color: #434B5C;\n",
              "      --hover-fill-color: #FFFFFF;\n",
              "      --disabled-bg-color: #3B4455;\n",
              "      --disabled-fill-color: #666;\n",
              "  }\n",
              "\n",
              "  .colab-df-quickchart {\n",
              "    background-color: var(--bg-color);\n",
              "    border: none;\n",
              "    border-radius: 50%;\n",
              "    cursor: pointer;\n",
              "    display: none;\n",
              "    fill: var(--fill-color);\n",
              "    height: 32px;\n",
              "    padding: 0;\n",
              "    width: 32px;\n",
              "  }\n",
              "\n",
              "  .colab-df-quickchart:hover {\n",
              "    background-color: var(--hover-bg-color);\n",
              "    box-shadow: 0 1px 2px rgba(60, 64, 67, 0.3), 0 1px 3px 1px rgba(60, 64, 67, 0.15);\n",
              "    fill: var(--button-hover-fill-color);\n",
              "  }\n",
              "\n",
              "  .colab-df-quickchart-complete:disabled,\n",
              "  .colab-df-quickchart-complete:disabled:hover {\n",
              "    background-color: var(--disabled-bg-color);\n",
              "    fill: var(--disabled-fill-color);\n",
              "    box-shadow: none;\n",
              "  }\n",
              "\n",
              "  .colab-df-spinner {\n",
              "    border: 2px solid var(--fill-color);\n",
              "    border-color: transparent;\n",
              "    border-bottom-color: var(--fill-color);\n",
              "    animation:\n",
              "      spin 1s steps(1) infinite;\n",
              "  }\n",
              "\n",
              "  @keyframes spin {\n",
              "    0% {\n",
              "      border-color: transparent;\n",
              "      border-bottom-color: var(--fill-color);\n",
              "      border-left-color: var(--fill-color);\n",
              "    }\n",
              "    20% {\n",
              "      border-color: transparent;\n",
              "      border-left-color: var(--fill-color);\n",
              "      border-top-color: var(--fill-color);\n",
              "    }\n",
              "    30% {\n",
              "      border-color: transparent;\n",
              "      border-left-color: var(--fill-color);\n",
              "      border-top-color: var(--fill-color);\n",
              "      border-right-color: var(--fill-color);\n",
              "    }\n",
              "    40% {\n",
              "      border-color: transparent;\n",
              "      border-right-color: var(--fill-color);\n",
              "      border-top-color: var(--fill-color);\n",
              "    }\n",
              "    60% {\n",
              "      border-color: transparent;\n",
              "      border-right-color: var(--fill-color);\n",
              "    }\n",
              "    80% {\n",
              "      border-color: transparent;\n",
              "      border-right-color: var(--fill-color);\n",
              "      border-bottom-color: var(--fill-color);\n",
              "    }\n",
              "    90% {\n",
              "      border-color: transparent;\n",
              "      border-bottom-color: var(--fill-color);\n",
              "    }\n",
              "  }\n",
              "</style>\n",
              "\n",
              "  <script>\n",
              "    async function quickchart(key) {\n",
              "      const quickchartButtonEl =\n",
              "        document.querySelector('#' + key + ' button');\n",
              "      quickchartButtonEl.disabled = true;  // To prevent multiple clicks.\n",
              "      quickchartButtonEl.classList.add('colab-df-spinner');\n",
              "      try {\n",
              "        const charts = await google.colab.kernel.invokeFunction(\n",
              "            'suggestCharts', [key], {});\n",
              "      } catch (error) {\n",
              "        console.error('Error during call to suggestCharts:', error);\n",
              "      }\n",
              "      quickchartButtonEl.classList.remove('colab-df-spinner');\n",
              "      quickchartButtonEl.classList.add('colab-df-quickchart-complete');\n",
              "    }\n",
              "    (() => {\n",
              "      let quickchartButtonEl =\n",
              "        document.querySelector('#df-08e5c35a-eb32-4155-902a-15715cd3afc4 button');\n",
              "      quickchartButtonEl.style.display =\n",
              "        google.colab.kernel.accessAllowed ? 'block' : 'none';\n",
              "    })();\n",
              "  </script>\n",
              "</div>\n",
              "\n",
              "    </div>\n",
              "  </div>\n"
            ],
            "application/vnd.google.colaboratory.intrinsic+json": {
              "type": "dataframe",
              "variable_name": "data",
              "summary": "{\n  \"name\": \"data\",\n  \"rows\": 1000,\n  \"fields\": [\n    {\n      \"column\": \"review\",\n      \"properties\": {\n        \"dtype\": \"string\",\n        \"num_unique_values\": 990,\n        \"samples\": [\n          \"The range is very decent, I've been able to roam around my house with the phone in the living room with no reception/sound quality issues.\",\n          \"The reception is excellent!\",\n          \"I would have given no star if I was able.\"\n        ],\n        \"semantic_type\": \"\",\n        \"description\": \"\"\n      }\n    },\n    {\n      \"column\": \"label\",\n      \"properties\": {\n        \"dtype\": \"number\",\n        \"std\": 0,\n        \"min\": 0,\n        \"max\": 1,\n        \"num_unique_values\": 2,\n        \"samples\": [\n          1,\n          0\n        ],\n        \"semantic_type\": \"\",\n        \"description\": \"\"\n      }\n    }\n  ]\n}"
            }
          },
          "metadata": {},
          "execution_count": 7
        }
      ]
    },
    {
      "cell_type": "code",
      "source": [
        "data.shape"
      ],
      "metadata": {
        "colab": {
          "base_uri": "https://localhost:8080/"
        },
        "id": "nK_vn1LqH5Ls",
        "outputId": "5fd771ff-7aca-4adf-e4e9-bee76372ab27"
      },
      "execution_count": null,
      "outputs": [
        {
          "output_type": "execute_result",
          "data": {
            "text/plain": [
              "(1000, 2)"
            ]
          },
          "metadata": {},
          "execution_count": 8
        }
      ]
    },
    {
      "cell_type": "code",
      "source": [
        "data.isna().apply(pd.value_counts)"
      ],
      "metadata": {
        "colab": {
          "base_uri": "https://localhost:8080/",
          "height": 81
        },
        "id": "CkLlzQPBH_3h",
        "outputId": "87cb2b00-0c1c-4a6c-aaae-8a5b5d3ee707"
      },
      "execution_count": null,
      "outputs": [
        {
          "output_type": "execute_result",
          "data": {
            "text/plain": [
              "       review  label\n",
              "False    1000   1000"
            ],
            "text/html": [
              "\n",
              "  <div id=\"df-e0725582-fe29-4595-959f-487b698f349d\" class=\"colab-df-container\">\n",
              "    <div>\n",
              "<style scoped>\n",
              "    .dataframe tbody tr th:only-of-type {\n",
              "        vertical-align: middle;\n",
              "    }\n",
              "\n",
              "    .dataframe tbody tr th {\n",
              "        vertical-align: top;\n",
              "    }\n",
              "\n",
              "    .dataframe thead th {\n",
              "        text-align: right;\n",
              "    }\n",
              "</style>\n",
              "<table border=\"1\" class=\"dataframe\">\n",
              "  <thead>\n",
              "    <tr style=\"text-align: right;\">\n",
              "      <th></th>\n",
              "      <th>review</th>\n",
              "      <th>label</th>\n",
              "    </tr>\n",
              "  </thead>\n",
              "  <tbody>\n",
              "    <tr>\n",
              "      <th>False</th>\n",
              "      <td>1000</td>\n",
              "      <td>1000</td>\n",
              "    </tr>\n",
              "  </tbody>\n",
              "</table>\n",
              "</div>\n",
              "    <div class=\"colab-df-buttons\">\n",
              "\n",
              "  <div class=\"colab-df-container\">\n",
              "    <button class=\"colab-df-convert\" onclick=\"convertToInteractive('df-e0725582-fe29-4595-959f-487b698f349d')\"\n",
              "            title=\"Convert this dataframe to an interactive table.\"\n",
              "            style=\"display:none;\">\n",
              "\n",
              "  <svg xmlns=\"http://www.w3.org/2000/svg\" height=\"24px\" viewBox=\"0 -960 960 960\">\n",
              "    <path d=\"M120-120v-720h720v720H120Zm60-500h600v-160H180v160Zm220 220h160v-160H400v160Zm0 220h160v-160H400v160ZM180-400h160v-160H180v160Zm440 0h160v-160H620v160ZM180-180h160v-160H180v160Zm440 0h160v-160H620v160Z\"/>\n",
              "  </svg>\n",
              "    </button>\n",
              "\n",
              "  <style>\n",
              "    .colab-df-container {\n",
              "      display:flex;\n",
              "      gap: 12px;\n",
              "    }\n",
              "\n",
              "    .colab-df-convert {\n",
              "      background-color: #E8F0FE;\n",
              "      border: none;\n",
              "      border-radius: 50%;\n",
              "      cursor: pointer;\n",
              "      display: none;\n",
              "      fill: #1967D2;\n",
              "      height: 32px;\n",
              "      padding: 0 0 0 0;\n",
              "      width: 32px;\n",
              "    }\n",
              "\n",
              "    .colab-df-convert:hover {\n",
              "      background-color: #E2EBFA;\n",
              "      box-shadow: 0px 1px 2px rgba(60, 64, 67, 0.3), 0px 1px 3px 1px rgba(60, 64, 67, 0.15);\n",
              "      fill: #174EA6;\n",
              "    }\n",
              "\n",
              "    .colab-df-buttons div {\n",
              "      margin-bottom: 4px;\n",
              "    }\n",
              "\n",
              "    [theme=dark] .colab-df-convert {\n",
              "      background-color: #3B4455;\n",
              "      fill: #D2E3FC;\n",
              "    }\n",
              "\n",
              "    [theme=dark] .colab-df-convert:hover {\n",
              "      background-color: #434B5C;\n",
              "      box-shadow: 0px 1px 3px 1px rgba(0, 0, 0, 0.15);\n",
              "      filter: drop-shadow(0px 1px 2px rgba(0, 0, 0, 0.3));\n",
              "      fill: #FFFFFF;\n",
              "    }\n",
              "  </style>\n",
              "\n",
              "    <script>\n",
              "      const buttonEl =\n",
              "        document.querySelector('#df-e0725582-fe29-4595-959f-487b698f349d button.colab-df-convert');\n",
              "      buttonEl.style.display =\n",
              "        google.colab.kernel.accessAllowed ? 'block' : 'none';\n",
              "\n",
              "      async function convertToInteractive(key) {\n",
              "        const element = document.querySelector('#df-e0725582-fe29-4595-959f-487b698f349d');\n",
              "        const dataTable =\n",
              "          await google.colab.kernel.invokeFunction('convertToInteractive',\n",
              "                                                    [key], {});\n",
              "        if (!dataTable) return;\n",
              "\n",
              "        const docLinkHtml = 'Like what you see? Visit the ' +\n",
              "          '<a target=\"_blank\" href=https://colab.research.google.com/notebooks/data_table.ipynb>data table notebook</a>'\n",
              "          + ' to learn more about interactive tables.';\n",
              "        element.innerHTML = '';\n",
              "        dataTable['output_type'] = 'display_data';\n",
              "        await google.colab.output.renderOutput(dataTable, element);\n",
              "        const docLink = document.createElement('div');\n",
              "        docLink.innerHTML = docLinkHtml;\n",
              "        element.appendChild(docLink);\n",
              "      }\n",
              "    </script>\n",
              "  </div>\n",
              "\n",
              "\n",
              "    </div>\n",
              "  </div>\n"
            ],
            "application/vnd.google.colaboratory.intrinsic+json": {
              "type": "dataframe",
              "summary": "{\n  \"name\": \"data\",\n  \"rows\": 1,\n  \"fields\": [\n    {\n      \"column\": \"review\",\n      \"properties\": {\n        \"dtype\": \"number\",\n        \"std\": null,\n        \"min\": 1000,\n        \"max\": 1000,\n        \"num_unique_values\": 1,\n        \"samples\": [\n          1000\n        ],\n        \"semantic_type\": \"\",\n        \"description\": \"\"\n      }\n    },\n    {\n      \"column\": \"label\",\n      \"properties\": {\n        \"dtype\": \"number\",\n        \"std\": null,\n        \"min\": 1000,\n        \"max\": 1000,\n        \"num_unique_values\": 1,\n        \"samples\": [\n          1000\n        ],\n        \"semantic_type\": \"\",\n        \"description\": \"\"\n      }\n    }\n  ]\n}"
            }
          },
          "metadata": {},
          "execution_count": 9
        }
      ]
    },
    {
      "cell_type": "code",
      "source": [
        "data['label'].value_counts()"
      ],
      "metadata": {
        "colab": {
          "base_uri": "https://localhost:8080/"
        },
        "id": "KkBa0HkkKSWW",
        "outputId": "8d066576-2ab1-4236-c827-3fac09fc7c20"
      },
      "execution_count": null,
      "outputs": [
        {
          "output_type": "execute_result",
          "data": {
            "text/plain": [
              "label\n",
              "0    500\n",
              "1    500\n",
              "Name: count, dtype: int64"
            ]
          },
          "metadata": {},
          "execution_count": 10
        }
      ]
    },
    {
      "cell_type": "code",
      "source": [
        "sns.countplot(data['label'].value_counts())"
      ],
      "metadata": {
        "colab": {
          "base_uri": "https://localhost:8080/",
          "height": 467
        },
        "id": "8hquq9oeJAAq",
        "outputId": "772535b7-2f05-432b-a338-444937daa0cb"
      },
      "execution_count": null,
      "outputs": [
        {
          "output_type": "execute_result",
          "data": {
            "text/plain": [
              "<Axes: xlabel='label', ylabel='count'>"
            ]
          },
          "metadata": {},
          "execution_count": 11
        },
        {
          "output_type": "display_data",
          "data": {
            "text/plain": [
              "<Figure size 640x480 with 1 Axes>"
            ],
            "image/png": "[encoded data removed]"
          },
          "metadata": {}
        }
      ]
    },
    {
      "cell_type": "markdown",
      "source": [
        "# 3. Train Test Split"
      ],
      "metadata": {
        "id": "-LyiV50GqNZv"
      }
    },
    {
      "cell_type": "code",
      "source": [
        "train_df = data.sample(frac=0.8, random_state = 42)\n",
        "test_df = data.drop(train_df.index)\n",
        "\n",
        "print('Train Data:', train_df.shape)\n",
        "print('Test Data:', test_df.shape)"
      ],
      "metadata": {
        "colab": {
          "base_uri": "https://localhost:8080/"
        },
        "id": "Wcw0fAJ4qg3Z",
        "outputId": "072c18f6-fe9b-429a-bc97-201752ae93b6"
      },
      "execution_count": null,
      "outputs": [
        {
          "output_type": "stream",
          "name": "stdout",
          "text": [
            "Train Data: (800, 2)\n",
            "Test Data: (200, 2)\n"
          ]
        }
      ]
    },
    {
      "cell_type": "markdown",
      "source": [
        "# 4. Convert data from Pandas to HuggingFace Dataset\n"
      ],
      "metadata": {
        "id": "faNXqyndqhR-"
      }
    },
    {
      "cell_type": "code",
      "source": [
        "train_hf =  Dataset.from_pandas(train_df)\n",
        "test_hf =  Dataset.from_pandas(test_df)\n",
        "\n",
        "print(train_hf, '\\n')\n",
        "print(train_hf[0], '\\n')\n",
        "print(test_hf)"
      ],
      "metadata": {
        "colab": {
          "base_uri": "https://localhost:8080/"
        },
        "id": "xJMne5N1qp13",
        "outputId": "70021de7-01ca-478c-bca9-cbabc25a0cbe"
      },
      "execution_count": null,
      "outputs": [
        {
          "output_type": "stream",
          "name": "stdout",
          "text": [
            "Dataset({\n",
            "    features: ['review', 'label', '__index_level_0__'],\n",
            "    num_rows: 800\n",
            "}) \n",
            "\n",
            "{'review': 'Thanks again to Amazon for having the things I need for a good price!', 'label': 1, '__index_level_0__': 521} \n",
            "\n",
            "Dataset({\n",
            "    features: ['review', 'label', '__index_level_0__'],\n",
            "    num_rows: 200\n",
            "})\n"
          ]
        }
      ]
    },
    {
      "cell_type": "markdown",
      "source": [
        "# 5. Load Tokenizer and Pre-trained Model"
      ],
      "metadata": {
        "id": "71XTaemYqtPV"
      }
    },
    {
      "cell_type": "code",
      "source": [
        "model_version = 'bert-base-uncased'\n",
        "tokenizer = AutoTokenizer.from_pretrained (model_version)\n",
        "model = AutoModelForSequenceClassification.from_pretrained (model_version)"
      ],
      "metadata": {
        "colab": {
          "base_uri": "https://localhost:8080/"
        },
        "id": "WIhgBW0arH5c",
        "outputId": "3fce244b-85f7-4261-9ddb-1ab1a5d42dfb"
      },
      "execution_count": null,
      "outputs": [
        {
          "output_type": "stream",
          "name": "stderr",
          "text": [
            "/usr/local/lib/python3.10/dist-packages/huggingface_hub/utils/_token.py:89: UserWarning: \n",
            "The secret `HF_TOKEN` does not exist in your Colab secrets.\n",
            "To authenticate with the Hugging Face Hub, create a token in your settings tab (https://huggingface.co/settings/tokens), set it as secret in your Google Colab and restart your session.\n",
            "You will be able to reuse this secret in all of your notebooks.\n",
            "Please note that authentication is recommended but still optional to access public models or datasets.\n",
            "  warnings.warn(\n",
            "Some weights of BertForSequenceClassification were not initialized from the model checkpoint at bert-base-uncased and are newly initialized: ['classifier.bias', 'classifier.weight']\n",
            "You should probably TRAIN this model on a down-stream task to be able to use it for predictions and inference.\n"
          ]
        }
      ]
    },
    {
      "cell_type": "code",
      "source": [
        "tokenizer"
      ],
      "metadata": {
        "colab": {
          "base_uri": "https://localhost:8080/"
        },
        "id": "1Ggx_g6RXrVl",
        "outputId": "8a81e721-d6cd-4397-fb10-ef790e72d912"
      },
      "execution_count": null,
      "outputs": [
        {
          "output_type": "execute_result",
          "data": {
            "text/plain": [
              "BertTokenizerFast(name_or_path='bert-base-uncased', vocab_size=30522, model_max_length=512, is_fast=True, padding_side='right', truncation_side='right', special_tokens={'unk_token': '[UNK]', 'sep_token': '[SEP]', 'pad_token': '[PAD]', 'cls_token': '[CLS]', 'mask_token': '[MASK]'}, clean_up_tokenization_spaces=True),  added_tokens_decoder={\n",
              "\t0: AddedToken(\"[PAD]\", rstrip=False, lstrip=False, single_word=False, normalized=False, special=True),\n",
              "\t100: AddedToken(\"[UNK]\", rstrip=False, lstrip=False, single_word=False, normalized=False, special=True),\n",
              "\t101: AddedToken(\"[CLS]\", rstrip=False, lstrip=False, single_word=False, normalized=False, special=True),\n",
              "\t102: AddedToken(\"[SEP]\", rstrip=False, lstrip=False, single_word=False, normalized=False, special=True),\n",
              "\t103: AddedToken(\"[MASK]\", rstrip=False, lstrip=False, single_word=False, normalized=False, special=True),\n",
              "}"
            ]
          },
          "metadata": {},
          "execution_count": 15
        }
      ]
    },
    {
      "cell_type": "code",
      "source": [
        "model"
      ],
      "metadata": {
        "colab": {
          "base_uri": "https://localhost:8080/"
        },
        "id": "624J7hA8Xwnp",
        "outputId": "88c02534-a0d1-4f71-d172-89f9b8503204"
      },
      "execution_count": null,
      "outputs": [
        {
          "output_type": "execute_result",
          "data": {
            "text/plain": [
              "BertForSequenceClassification(\n",
              "  (bert): BertModel(\n",
              "    (embeddings): BertEmbeddings(\n",
              "      (word_embeddings): Embedding(30522, 768, padding_idx=0)\n",
              "      (position_embeddings): Embedding(512, 768)\n",
              "      (token_type_embeddings): Embedding(2, 768)\n",
              "      (LayerNorm): LayerNorm((768,), eps=1e-12, elementwise_affine=True)\n",
              "      (dropout): Dropout(p=0.1, inplace=False)\n",
              "    )\n",
              "    (encoder): BertEncoder(\n",
              "      (layer): ModuleList(\n",
              "        (0-11): 12 x BertLayer(\n",
              "          (attention): BertAttention(\n",
              "            (self): BertSelfAttention(\n",
              "              (query): Linear(in_features=768, out_features=768, bias=True)\n",
              "              (key): Linear(in_features=768, out_features=768, bias=True)\n",
              "              (value): Linear(in_features=768, out_features=768, bias=True)\n",
              "              (dropout): Dropout(p=0.1, inplace=False)\n",
              "            )\n",
              "            (output): BertSelfOutput(\n",
              "              (dense): Linear(in_features=768, out_features=768, bias=True)\n",
              "              (LayerNorm): LayerNorm((768,), eps=1e-12, elementwise_affine=True)\n",
              "              (dropout): Dropout(p=0.1, inplace=False)\n",
              "            )\n",
              "          )\n",
              "          (intermediate): BertIntermediate(\n",
              "            (dense): Linear(in_features=768, out_features=3072, bias=True)\n",
              "            (intermediate_act_fn): GELUActivation()\n",
              "          )\n",
              "          (output): BertOutput(\n",
              "            (dense): Linear(in_features=3072, out_features=768, bias=True)\n",
              "            (LayerNorm): LayerNorm((768,), eps=1e-12, elementwise_affine=True)\n",
              "            (dropout): Dropout(p=0.1, inplace=False)\n",
              "          )\n",
              "        )\n",
              "      )\n",
              "    )\n",
              "    (pooler): BertPooler(\n",
              "      (dense): Linear(in_features=768, out_features=768, bias=True)\n",
              "      (activation): Tanh()\n",
              "    )\n",
              "  )\n",
              "  (dropout): Dropout(p=0.1, inplace=False)\n",
              "  (classifier): Linear(in_features=768, out_features=2, bias=True)\n",
              ")"
            ]
          },
          "metadata": {},
          "execution_count": 16
        }
      ]
    },
    {
      "cell_type": "markdown",
      "source": [
        "# 6. Tokenize dataset using Hugging Face Batch Mapping"
      ],
      "metadata": {
        "id": "y47fv4FArIk5"
      }
    },
    {
      "cell_type": "code",
      "source": [
        "def tokenize(batch):\n",
        "  return tokenizer(batch['review'], padding = True, truncation = True)\n",
        "\n",
        "# tokenize the first two samples from train data\n",
        "tokenize(train_hf[:2])"
      ],
      "metadata": {
        "colab": {
          "base_uri": "https://localhost:8080/"
        },
        "id": "Kuhm98PTrsVv",
        "outputId": "453a7969-fc48-481f-fa02-5a5449b4a9ae"
      },
      "execution_count": null,
      "outputs": [
        {
          "output_type": "execute_result",
          "data": {
            "text/plain": [
              "{'input_ids': [[101, 4283, 2153, 2000, 9733, 2005, 2383, 1996, 2477, 1045, 2342, 2005, 1037, 2204, 3976, 999, 102, 0, 0, 0, 0, 0, 0], [101, 1996, 19817, 6305, 14876, 2638, 8545, 5910, 4221, 2003, 5310, 5379, 1998, 3084, 2009, 3733, 2000, 18908, 21466, 1010, 4385, 1012, 102]], 'token_type_ids': [[0, 0, 0, 0, 0, 0, 0, 0, 0, 0, 0, 0, 0, 0, 0, 0, 0, 0, 0, 0, 0, 0, 0], [0, 0, 0, 0, 0, 0, 0, 0, 0, 0, 0, 0, 0, 0, 0, 0, 0, 0, 0, 0, 0, 0, 0]], 'attention_mask': [[1, 1, 1, 1, 1, 1, 1, 1, 1, 1, 1, 1, 1, 1, 1, 1, 1, 0, 0, 0, 0, 0, 0], [1, 1, 1, 1, 1, 1, 1, 1, 1, 1, 1, 1, 1, 1, 1, 1, 1, 1, 1, 1, 1, 1, 1]]}"
            ]
          },
          "metadata": {},
          "execution_count": 17
        }
      ]
    },
    {
      "cell_type": "code",
      "source": [
        "train_encoded = train_hf.map(tokenize, batched = True, batch_size = None)\n",
        "test_encoded =  test_hf.map(tokenize, batched = True, batch_size = None)"
      ],
      "metadata": {
        "colab": {
          "base_uri": "https://localhost:8080/",
          "height": 81,
          "referenced_widgets": [
            "8aca81e792f84426bca72a69d4b155b7",
            "18f2bcc076f94fe5ba76642623b50fe3",
            "5dd562c1739b4a8ea739d01e19ab957a",
            "1f6b25a96e3844f296569bc90cc91b2a",
            "3cfc33aeba5148b2bc2597d379b3b927",
            "923d0213320347c8beae9ba9edd048ea",
            "1ff5920132944980811e908e0fd2ea99",
            "b26752b97e6141efb813fb848435dbdf",
            "b76e31c979464febb83bdc2c75a0ee4e",
            "f060b28c04274e32987b065d47e36a67",
            "ee659d574ca8495e9bea9db67f5744c9",
            "6701932ded6146c48e8a281b43421b5d",
            "88131e820fbf40a594dac32ff5a3e75c",
            "32a70f78af0e4bcb942c70998160ba29",
            "b448c060d30045de9b05e4c6bfde33ae",
            "59b75863455b42cc823b4a6960dc47b3",
            "5eeb17190b374e11bcaef8a537eee9d5",
            "3c28b683cbe843a693a4a989233d6c85",
            "9fc7018c7ffb456eb7026f795e38c9ee",
            "b8e42540fe7c4f4aacd438b66bb84725",
            "868c6282583a45a5a291585a1e479bba",
            "c5ebee4d0afc4f369eb600a50d563a38"
          ]
        },
        "id": "bnD3YNTOubvl",
        "outputId": "8430e478-16b8-4b6b-d896-18390b204ce1"
      },
      "execution_count": null,
      "outputs": [
        {
          "output_type": "display_data",
          "data": {
            "text/plain": [
              "Map:   0%|          | 0/800 [00:00<?, ? examples/s]"
            ],
            "application/vnd.jupyter.widget-view+json": {
              "version_major": 2,
              "version_minor": 0,
              "model_id": "8aca81e792f84426bca72a69d4b155b7"
            }
          },
          "metadata": {}
        },
        {
          "output_type": "display_data",
          "data": {
            "text/plain": [
              "Map:   0%|          | 0/200 [00:00<?, ? examples/s]"
            ],
            "application/vnd.jupyter.widget-view+json": {
              "version_major": 2,
              "version_minor": 0,
              "model_id": "6701932ded6146c48e8a281b43421b5d"
            }
          },
          "metadata": {}
        }
      ]
    },
    {
      "cell_type": "code",
      "source": [
        "print(train_encoded, '\\n')\n",
        "print(len(train_encoded), '\\n')\n",
        "print(train_encoded[:2], '\\n')\n",
        "\n"
      ],
      "metadata": {
        "colab": {
          "base_uri": "https://localhost:8080/"
        },
        "id": "213cYt8EY5ab",
        "outputId": "4739783e-a585-4870-8382-c081649b1e8a"
      },
      "execution_count": null,
      "outputs": [
        {
          "output_type": "stream",
          "name": "stdout",
          "text": [
            "Dataset({\n",
            "    features: ['review', 'label', '__index_level_0__', 'input_ids', 'token_type_ids', 'attention_mask'],\n",
            "    num_rows: 800\n",
            "}) \n",
            "\n",
            "800 \n",
            "\n",
            "{'review': ['Thanks again to Amazon for having the things I need for a good price!', 'The tracfonewebsite is user friendly and makes it easy toactivate, etc.'], 'label': [1, 1], '__index_level_0__': [521, 737], 'input_ids': [[101, 4283, 2153, 2000, 9733, 2005, 2383, 1996, 2477, 1045, 2342, 2005, 1037, 2204, 3976, 999, 102, 0, 0, 0, 0, 0, 0, 0, 0, 0, 0, 0, 0, 0, 0, 0, 0, 0, 0, 0, 0, 0, 0], [101, 1996, 19817, 6305, 14876, 2638, 8545, 5910, 4221, 2003, 5310, 5379, 1998, 3084, 2009, 3733, 2000, 18908, 21466, 1010, 4385, 1012, 102, 0, 0, 0, 0, 0, 0, 0, 0, 0, 0, 0, 0, 0, 0, 0, 0]], 'token_type_ids': [[0, 0, 0, 0, 0, 0, 0, 0, 0, 0, 0, 0, 0, 0, 0, 0, 0, 0, 0, 0, 0, 0, 0, 0, 0, 0, 0, 0, 0, 0, 0, 0, 0, 0, 0, 0, 0, 0, 0], [0, 0, 0, 0, 0, 0, 0, 0, 0, 0, 0, 0, 0, 0, 0, 0, 0, 0, 0, 0, 0, 0, 0, 0, 0, 0, 0, 0, 0, 0, 0, 0, 0, 0, 0, 0, 0, 0, 0]], 'attention_mask': [[1, 1, 1, 1, 1, 1, 1, 1, 1, 1, 1, 1, 1, 1, 1, 1, 1, 0, 0, 0, 0, 0, 0, 0, 0, 0, 0, 0, 0, 0, 0, 0, 0, 0, 0, 0, 0, 0, 0], [1, 1, 1, 1, 1, 1, 1, 1, 1, 1, 1, 1, 1, 1, 1, 1, 1, 1, 1, 1, 1, 1, 1, 0, 0, 0, 0, 0, 0, 0, 0, 0, 0, 0, 0, 0, 0, 0, 0]]} \n",
            "\n"
          ]
        }
      ]
    },
    {
      "cell_type": "markdown",
      "source": [
        "# 7. Set Training Aruguments"
      ],
      "metadata": {
        "id": "njS9DMSvrsg6"
      }
    },
    {
      "cell_type": "code",
      "source": [
        "training_args = TrainingArguments(\n",
        "                output_dir = './output',\n",
        "                logging_dir = './output/logs',\n",
        "                logging_strategy = 'epoch',\n",
        "                logging_steps = 100,\n",
        "                num_train_epochs = 5,\n",
        "                per_device_train_batch_size = 4,\n",
        "                per_device_eval_batch_size = 4,\n",
        "                learning_rate = 5e-5,\n",
        "                seed = 42,\n",
        "                save_strategy = 'epoch',\n",
        "                save_steps = 100,\n",
        "                evaluation_strategy = 'epoch',\n",
        "                eval_steps = 100,\n",
        "                load_best_model_at_end = True)\n",
        "\n",
        "\n",
        "\n",
        "\n"
      ],
      "metadata": {
        "id": "AT9o6xvOtHJ2"
      },
      "execution_count": null,
      "outputs": []
    },
    {
      "cell_type": "markdown",
      "source": [
        "# 8. Set Evaluation Metrics"
      ],
      "metadata": {
        "id": "o87lSfBItHqI"
      }
    },
    {
      "cell_type": "code",
      "source": [
        "print(len(evaluate.list_evaluation_modules()))\n",
        "evaluate.list_evaluation_modules()"
      ],
      "metadata": {
        "colab": {
          "base_uri": "https://localhost:8080/"
        },
        "id": "69urjXjGtSfJ",
        "outputId": "77ae3132-32e9-4d20-ef1d-544bf7d2677d"
      },
      "execution_count": null,
      "outputs": [
        {
          "output_type": "stream",
          "name": "stdout",
          "text": [
            "163\n"
          ]
        },
        {
          "output_type": "execute_result",
          "data": {
            "text/plain": [
              "['lvwerra/test',\n",
              " 'jordyvl/ece',\n",
              " 'angelina-wang/directional_bias_amplification',\n",
              " 'cpllab/syntaxgym',\n",
              " 'lvwerra/bary_score',\n",
              " 'hack/test_metric',\n",
              " 'yzha/ctc_eval',\n",
              " 'codeparrot/apps_metric',\n",
              " 'mfumanelli/geometric_mean',\n",
              " 'daiyizheng/valid',\n",
              " 'erntkn/dice_coefficient',\n",
              " 'mgfrantz/roc_auc_macro',\n",
              " 'Vlasta/pr_auc',\n",
              " 'gorkaartola/metric_for_tp_fp_samples',\n",
              " 'idsedykh/metric',\n",
              " 'idsedykh/codebleu2',\n",
              " 'idsedykh/codebleu',\n",
              " 'idsedykh/megaglue',\n",
              " 'cakiki/ndcg',\n",
              " 'Vertaix/vendiscore',\n",
              " 'GMFTBY/dailydialogevaluate',\n",
              " 'GMFTBY/dailydialog_evaluate',\n",
              " 'jzm-mailchimp/joshs_second_test_metric',\n",
              " 'ola13/precision_at_k',\n",
              " 'yulong-me/yl_metric',\n",
              " 'abidlabs/mean_iou',\n",
              " 'abidlabs/mean_iou2',\n",
              " 'KevinSpaghetti/accuracyk',\n",
              " 'NimaBoscarino/weat',\n",
              " 'ronaldahmed/nwentfaithfulness',\n",
              " 'Viona/infolm',\n",
              " 'kyokote/my_metric2',\n",
              " 'kashif/mape',\n",
              " 'Ochiroo/rouge_mn',\n",
              " 'giulio98/code_eval_outputs',\n",
              " 'leslyarun/fbeta_score',\n",
              " 'giulio98/codebleu',\n",
              " 'anz2/iliauniiccocrevaluation',\n",
              " 'zbeloki/m2',\n",
              " 'xu1998hz/sescore',\n",
              " 'dvitel/codebleu',\n",
              " 'NCSOFT/harim_plus',\n",
              " 'JP-SystemsX/nDCG',\n",
              " 'sportlosos/sescore',\n",
              " 'Drunper/metrica_tesi',\n",
              " 'jpxkqx/peak_signal_to_noise_ratio',\n",
              " 'jpxkqx/signal_to_reconstruction_error',\n",
              " 'hpi-dhc/FairEval',\n",
              " 'lvwerra/accuracy_score',\n",
              " 'ybelkada/cocoevaluate',\n",
              " 'harshhpareek/bertscore',\n",
              " 'posicube/mean_reciprocal_rank',\n",
              " 'bstrai/classification_report',\n",
              " 'omidf/squad_precision_recall',\n",
              " 'Josh98/nl2bash_m',\n",
              " 'BucketHeadP65/confusion_matrix',\n",
              " 'BucketHeadP65/roc_curve',\n",
              " 'yonting/average_precision_score',\n",
              " 'transZ/test_parascore',\n",
              " 'transZ/sbert_cosine',\n",
              " 'hynky/sklearn_proxy',\n",
              " 'xu1998hz/sescore_english_mt',\n",
              " 'xu1998hz/sescore_german_mt',\n",
              " 'xu1998hz/sescore_english_coco',\n",
              " 'xu1998hz/sescore_english_webnlg',\n",
              " 'unnati/kendall_tau_distance',\n",
              " 'Viona/fuzzy_reordering',\n",
              " 'Viona/kendall_tau',\n",
              " 'lhy/hamming_loss',\n",
              " 'lhy/ranking_loss',\n",
              " 'Muennighoff/code_eval_octopack',\n",
              " 'yuyijiong/quad_match_score',\n",
              " 'Splend1dchan/cosine_similarity',\n",
              " 'AlhitawiMohammed22/CER_Hu-Evaluation-Metrics',\n",
              " 'Yeshwant123/mcc',\n",
              " 'transformersegmentation/segmentation_scores',\n",
              " 'sma2023/wil',\n",
              " 'chanelcolgate/average_precision',\n",
              " 'ckb/unigram',\n",
              " 'Felipehonorato/eer',\n",
              " 'manueldeprada/beer',\n",
              " 'shunzh/apps_metric',\n",
              " 'He-Xingwei/sari_metric',\n",
              " 'langdonholmes/cohen_weighted_kappa',\n",
              " 'fschlatt/ner_eval',\n",
              " 'hyperml/balanced_accuracy',\n",
              " 'brian920128/doc_retrieve_metrics',\n",
              " 'guydav/restrictedpython_code_eval',\n",
              " 'k4black/codebleu',\n",
              " 'Natooz/ece',\n",
              " 'ingyu/klue_mrc',\n",
              " 'Vipitis/shadermatch',\n",
              " 'unitxt/metric',\n",
              " 'gabeorlanski/bc_eval',\n",
              " 'jjkim0807/code_eval',\n",
              " 'vichyt/metric-codebleu',\n",
              " 'repllabs/mean_reciprocal_rank',\n",
              " 'repllabs/mean_average_precision',\n",
              " 'mtc/fragments',\n",
              " 'DarrenChensformer/eval_keyphrase',\n",
              " 'kedudzic/charmatch',\n",
              " 'Vallp/ter',\n",
              " 'DarrenChensformer/relation_extraction',\n",
              " 'Ikala-allen/relation_extraction',\n",
              " 'danieldux/hierarchical_softmax_loss',\n",
              " 'nlpln/tst',\n",
              " 'bdsaglam/jer',\n",
              " 'davebulaval/meaningbert',\n",
              " 'fnvls/bleu1234',\n",
              " 'fnvls/bleu_1234',\n",
              " 'nevikw39/specificity',\n",
              " 'yqsong/execution_accuracy',\n",
              " 'shalakasatheesh/squad_v2',\n",
              " 'arthurvqin/pr_auc',\n",
              " 'd-matrix/dmx_perplexity',\n",
              " 'akki2825/accents_unplugged_eval',\n",
              " 'juliakaczor/accents_unplugged_eval',\n",
              " 'chimene/accents_unplugged_eval',\n",
              " 'Vickyage/accents_unplugged_eval',\n",
              " 'Qui-nn/accents_unplugged_eval',\n",
              " 'TelEl/accents_unplugged_eval',\n",
              " 'livvie/accents_unplugged_eval',\n",
              " 'DaliaCaRo/accents_unplugged_eval',\n",
              " 'alvinasvk/accents_unplugged_eval',\n",
              " 'LottieW/accents_unplugged_eval',\n",
              " 'LuckiestOne/valid_efficiency_score',\n",
              " 'Fritz02/execution_accuracy',\n",
              " 'huanghuayu/multiclass_brier_score',\n",
              " 'jialinsong/apps_metric',\n",
              " 'DoctorSlimm/bangalore_score',\n",
              " 'agkphysics/ccc',\n",
              " 'DoctorSlimm/kaushiks_criteria',\n",
              " 'CZLC/rouge_raw',\n",
              " 'bascobasculino/mot-metrics',\n",
              " 'SEA-AI/mot-metrics',\n",
              " 'SEA-AI/det-metrics',\n",
              " 'saicharan2804/my_metric',\n",
              " 'red1bluelost/evaluate_genericify_cpp',\n",
              " 'maksymdolgikh/seqeval_with_fbeta',\n",
              " 'Bekhouche/NED',\n",
              " 'danieldux/isco_hierarchical_accuracy',\n",
              " 'ginic/phone_errors',\n",
              " 'haotongye-shopee/ppl',\n",
              " 'berkatil/map',\n",
              " 'DarrenChensformer/action_generation',\n",
              " 'buelfhood/fbeta_score',\n",
              " 'danasone/ru_errant',\n",
              " 'helena-balabin/youden_index',\n",
              " 'SEA-AI/PanopticQuality',\n",
              " 'SEA-AI/box-metrics',\n",
              " 'MathewShen/bleu',\n",
              " 'ncoop57/levenshtein_distance',\n",
              " 'kaleidophon/almost_stochastic_order',\n",
              " 'lvwerra/element_count',\n",
              " 'prb977/cooccurrence_count',\n",
              " 'NimaBoscarino/pseudo_perplexity',\n",
              " 'ybelkada/toxicity',\n",
              " 'ronaldahmed/ccl_win',\n",
              " 'cakiki/tokens_per_byte',\n",
              " 'lsy641/distinct',\n",
              " 'grepLeigh/perplexity',\n",
              " 'Charles95/element_count',\n",
              " 'Charles95/accuracy']"
            ]
          },
          "metadata": {},
          "execution_count": 21
        }
      ]
    },
    {
      "cell_type": "code",
      "source": [
        "def compute_metrics(eval_predictions):\n",
        "  metric = evaluate.load('accuracy')\n",
        "  logits, labels = eval_predictions\n",
        "  preds = np.argmax(logits, axis=1)\n",
        "  return metric.compute(predictions=preds, references=labels)"
      ],
      "metadata": {
        "id": "I3hcep6Zkw1b"
      },
      "execution_count": null,
      "outputs": []
    },
    {
      "cell_type": "markdown",
      "source": [
        "# 9. Train model using Transformer Trainer"
      ],
      "metadata": {
        "id": "jq0Ww9f3tT0D"
      }
    },
    {
      "cell_type": "code",
      "source": [
        "trainer = Trainer(\n",
        "          model = model,\n",
        "          args = training_args,\n",
        "          train_dataset = train_encoded,\n",
        "          eval_dataset = test_encoded,\n",
        "          compute_metrics = compute_metrics,\n",
        "          callbacks = [EarlyStoppingCallback(early_stopping_patience = 1)])\n",
        "\n",
        "trainer.train()\n"
      ],
      "metadata": {
        "colab": {
          "base_uri": "https://localhost:8080/",
          "height": 206
        },
        "id": "HDF9RMw5tfJE",
        "outputId": "8c819af1-7649-4b1e-d8e2-5b19e5d365d3"
      },
      "execution_count": null,
      "outputs": [
        {
          "output_type": "display_data",
          "data": {
            "text/plain": [
              "<IPython.core.display.HTML object>"
            ],
            "text/html": [
              "\n",
              "    <div>\n",
              "      \n",
              "      <progress value='600' max='1000' style='width:300px; height:20px; vertical-align: middle;'></progress>\n",
              "      [ 600/1000 01:38 < 01:05, 6.08 it/s, Epoch 3/5]\n",
              "    </div>\n",
              "    <table border=\"1\" class=\"dataframe\">\n",
              "  <thead>\n",
              " <tr style=\"text-align: left;\">\n",
              "      <th>Epoch</th>\n",
              "      <th>Training Loss</th>\n",
              "      <th>Validation Loss</th>\n",
              "      <th>Accuracy</th>\n",
              "    </tr>\n",
              "  </thead>\n",
              "  <tbody>\n",
              "    <tr>\n",
              "      <td>1</td>\n",
              "      <td>0.403700</td>\n",
              "      <td>0.286126</td>\n",
              "      <td>0.925000</td>\n",
              "    </tr>\n",
              "    <tr>\n",
              "      <td>2</td>\n",
              "      <td>0.169700</td>\n",
              "      <td>0.174984</td>\n",
              "      <td>0.960000</td>\n",
              "    </tr>\n",
              "    <tr>\n",
              "      <td>3</td>\n",
              "      <td>0.059100</td>\n",
              "      <td>0.334247</td>\n",
              "      <td>0.940000</td>\n",
              "    </tr>\n",
              "  </tbody>\n",
              "</table><p>"
            ]
          },
          "metadata": {}
        },
        {
          "output_type": "execute_result",
          "data": {
            "text/plain": [
              "TrainOutput(global_step=600, training_loss=0.21085254351298013, metrics={'train_runtime': 99.73, 'train_samples_per_second': 40.108, 'train_steps_per_second': 10.027, 'total_flos': 48099989808000.0, 'train_loss': 0.21085254351298013, 'epoch': 3.0})"
            ]
          },
          "metadata": {},
          "execution_count": 23
        }
      ]
    },
    {
      "cell_type": "markdown",
      "source": [
        "# 10. Predictions"
      ],
      "metadata": {
        "id": "y29oGk-StqkZ"
      }
    },
    {
      "cell_type": "code",
      "source": [
        "test_predict = trainer.predict(test_encoded)\n",
        "test_predict"
      ],
      "metadata": {
        "colab": {
          "base_uri": "https://localhost:8080/",
          "height": 1000
        },
        "id": "Y94j3x2wtxBB",
        "outputId": "f3f012fc-328a-4ff2-b147-601dadb28b1f"
      },
      "execution_count": null,
      "outputs": [
        {
          "output_type": "display_data",
          "data": {
            "text/plain": [
              "<IPython.core.display.HTML object>"
            ],
            "text/html": []
          },
          "metadata": {}
        },
        {
          "output_type": "execute_result",
          "data": {
            "text/plain": [
              "PredictionOutput(predictions=array([[-2.705951  ,  2.8956847 ],\n",
              "       [-2.739578  ,  2.9094791 ],\n",
              "       [-2.6946692 ,  2.9037418 ],\n",
              "       [ 2.7633934 , -3.1993651 ],\n",
              "       [ 2.3851001 , -2.8658957 ],\n",
              "       [-2.7624824 ,  2.920785  ],\n",
              "       [ 2.1566699 , -2.5653503 ],\n",
              "       [ 2.4080663 , -2.8374937 ],\n",
              "       [-2.5420742 ,  2.691727  ],\n",
              "       [ 1.3685578 , -1.7934688 ],\n",
              "       [-2.704041  ,  2.8946662 ],\n",
              "       [ 2.8531716 , -3.3436036 ],\n",
              "       [-2.2919748 ,  2.4762166 ],\n",
              "       [-2.6997437 ,  2.8479557 ],\n",
              "       [-2.5844674 ,  2.7605171 ],\n",
              "       [-1.0951192 ,  0.8293904 ],\n",
              "       [ 2.6037836 , -3.065482  ],\n",
              "       [-2.71479   ,  2.888475  ],\n",
              "       [-2.7431533 ,  2.92076   ],\n",
              "       [ 2.822448  , -3.2505302 ],\n",
              "       [-2.689993  ,  2.89026   ],\n",
              "       [-2.0370743 ,  2.1768756 ],\n",
              "       [-2.4829812 ,  2.6959066 ],\n",
              "       [ 3.0610664 , -3.6003902 ],\n",
              "       [-2.6915734 ,  2.8488631 ],\n",
              "       [-2.6586149 ,  2.8370166 ],\n",
              "       [ 2.6730309 , -3.093493  ],\n",
              "       [ 2.7312686 , -3.1869655 ],\n",
              "       [-2.7060711 ,  2.936005  ],\n",
              "       [-2.2888343 ,  2.4661613 ],\n",
              "       [-2.0547297 ,  2.2250593 ],\n",
              "       [ 2.700199  , -3.179817  ],\n",
              "       [-2.5518396 ,  2.7677488 ],\n",
              "       [-2.6959898 ,  2.8618035 ],\n",
              "       [ 1.7236626 , -2.0491505 ],\n",
              "       [-2.6938536 ,  2.8812907 ],\n",
              "       [ 2.8246021 , -3.2724984 ],\n",
              "       [-2.6768599 ,  2.8757374 ],\n",
              "       [-2.7131846 ,  2.8961978 ],\n",
              "       [ 2.5747614 , -3.0181537 ],\n",
              "       [-2.564728  ,  2.7604804 ],\n",
              "       [-2.5688343 ,  2.7197902 ],\n",
              "       [-2.6158187 ,  2.7823503 ],\n",
              "       [-2.6907327 ,  2.8806648 ],\n",
              "       [-2.6238873 ,  2.801165  ],\n",
              "       [-2.6644115 ,  2.8389578 ],\n",
              "       [-2.7330196 ,  2.8973126 ],\n",
              "       [ 2.7047207 , -3.1146638 ],\n",
              "       [ 3.1976352 , -3.8001115 ],\n",
              "       [ 3.2356088 , -3.6291523 ],\n",
              "       [ 2.110027  , -2.503871  ],\n",
              "       [ 3.2937725 , -3.7447143 ],\n",
              "       [ 1.7355771 , -2.0648167 ],\n",
              "       [-2.690557  ,  2.833524  ],\n",
              "       [-2.712986  ,  2.9635694 ],\n",
              "       [-2.7412057 ,  2.9168398 ],\n",
              "       [ 2.39708   , -2.6955504 ],\n",
              "       [-2.5423393 ,  2.7230148 ],\n",
              "       [ 2.9650402 , -3.460648  ],\n",
              "       [ 2.7033768 , -3.1294303 ],\n",
              "       [-2.6816015 ,  2.8800912 ],\n",
              "       [-2.3691268 ,  2.5705218 ],\n",
              "       [-1.8558036 ,  1.8030212 ],\n",
              "       [ 2.1068196 , -2.505209  ],\n",
              "       [-2.7176087 ,  2.9370441 ],\n",
              "       [ 3.3012123 , -3.6840248 ],\n",
              "       [ 2.699916  , -3.2116563 ],\n",
              "       [-2.6692176 ,  2.85735   ],\n",
              "       [-2.4740624 ,  2.6302447 ],\n",
              "       [ 3.4100363 , -3.8334558 ],\n",
              "       [-2.747725  ,  2.9173985 ],\n",
              "       [-2.5629508 ,  2.7474833 ],\n",
              "       [ 3.2202888 , -3.669068  ],\n",
              "       [ 3.2875972 , -3.800279  ],\n",
              "       [-2.6323738 ,  2.8121812 ],\n",
              "       [-2.7078142 ,  2.8784616 ],\n",
              "       [-1.6707999 ,  1.7472535 ],\n",
              "       [-2.7731452 ,  2.9626384 ],\n",
              "       [-2.7141178 ,  2.9120786 ],\n",
              "       [-2.671337  ,  2.8394444 ],\n",
              "       [ 2.7362807 , -3.120101  ],\n",
              "       [ 0.68411124, -1.0607393 ],\n",
              "       [ 2.9610705 , -3.4654822 ],\n",
              "       [ 1.0013905 , -1.2954481 ],\n",
              "       [ 2.8010654 , -3.2073057 ],\n",
              "       [ 2.9426467 , -3.4373841 ],\n",
              "       [ 3.0168033 , -3.3589478 ],\n",
              "       [-2.7062736 ,  2.89134   ],\n",
              "       [ 3.3389316 , -3.816176  ],\n",
              "       [ 3.3938208 , -3.8557718 ],\n",
              "       [-2.6417413 ,  2.766127  ],\n",
              "       [ 0.66839856, -1.0756806 ],\n",
              "       [ 2.7507124 , -3.1285422 ],\n",
              "       [-2.6652591 ,  2.8028023 ],\n",
              "       [-2.7240498 ,  2.9261148 ],\n",
              "       [ 2.80445   , -3.2467718 ],\n",
              "       [-2.7173142 ,  2.8661153 ],\n",
              "       [ 2.775809  , -3.3112783 ],\n",
              "       [-2.710212  ,  2.8708217 ],\n",
              "       [-2.6100507 ,  2.7565606 ],\n",
              "       [ 3.29517   , -3.6338634 ],\n",
              "       [ 3.3558424 , -3.6563852 ],\n",
              "       [-2.6755495 ,  2.8618731 ],\n",
              "       [-2.564652  ,  2.7313774 ],\n",
              "       [-2.722469  ,  2.879922  ],\n",
              "       [ 2.070655  , -2.4607332 ],\n",
              "       [-2.746963  ,  2.9323232 ],\n",
              "       [-2.7927527 ,  2.9801083 ],\n",
              "       [ 2.8805504 , -3.3669443 ],\n",
              "       [-2.6562722 ,  2.805938  ],\n",
              "       [-2.7139254 ,  2.9328265 ],\n",
              "       [-2.7083504 ,  2.8996537 ],\n",
              "       [ 2.524472  , -2.9619255 ],\n",
              "       [ 3.3050108 , -3.7288394 ],\n",
              "       [-2.6682825 ,  2.8844872 ],\n",
              "       [ 1.5858754 , -1.9503881 ],\n",
              "       [ 2.8859868 , -3.3444343 ],\n",
              "       [ 3.3423069 , -3.6935594 ],\n",
              "       [-2.5286222 ,  2.694272  ],\n",
              "       [-2.787791  ,  2.9820964 ],\n",
              "       [ 1.0636306 , -1.3683988 ],\n",
              "       [ 2.5986073 , -2.976177  ],\n",
              "       [-2.7917264 ,  2.9531007 ],\n",
              "       [-2.5250423 ,  2.7722871 ],\n",
              "       [-2.6448145 ,  2.8472571 ],\n",
              "       [ 2.9924698 , -3.476148  ],\n",
              "       [ 2.9403253 , -3.3727508 ],\n",
              "       [-2.570405  ,  2.75776   ],\n",
              "       [-2.712732  ,  2.8920436 ],\n",
              "       [ 2.8689055 , -3.3250175 ],\n",
              "       [-2.6371098 ,  2.8739583 ],\n",
              "       [-2.702864  ,  2.8943882 ],\n",
              "       [ 2.951954  , -3.5314014 ],\n",
              "       [ 3.0792458 , -3.4332094 ],\n",
              "       [-2.7401185 ,  2.906881  ],\n",
              "       [ 1.9078163 , -2.2766082 ],\n",
              "       [ 2.9945135 , -3.5431864 ],\n",
              "       [-2.3553672 ,  2.5303242 ],\n",
              "       [-2.207471  ,  2.486089  ],\n",
              "       [ 2.3602877 , -2.7051873 ],\n",
              "       [-1.63871   ,  1.5527104 ],\n",
              "       [-2.0593164 ,  2.2568657 ],\n",
              "       [ 1.9960884 , -2.3714647 ],\n",
              "       [-1.535225  ,  1.7461404 ],\n",
              "       [-2.6969984 ,  2.8763452 ],\n",
              "       [-2.601126  ,  2.7788577 ],\n",
              "       [-2.6503608 ,  2.8454633 ],\n",
              "       [ 3.2828157 , -3.6551976 ],\n",
              "       [-2.3885772 ,  2.6077716 ],\n",
              "       [-2.65835   ,  2.8354642 ],\n",
              "       [ 2.9697232 , -3.4477456 ],\n",
              "       [-2.7089548 ,  2.8466034 ],\n",
              "       [ 2.929576  , -3.369625  ],\n",
              "       [ 2.9252286 , -3.356268  ],\n",
              "       [ 2.7371635 , -3.191125  ],\n",
              "       [-2.7303588 ,  2.9244547 ],\n",
              "       [-2.6985364 ,  2.872059  ],\n",
              "       [ 2.1714928 , -2.5329483 ],\n",
              "       [ 2.4370894 , -2.8787584 ],\n",
              "       [-2.6732569 ,  2.8446836 ],\n",
              "       [-2.7232027 ,  2.9050436 ],\n",
              "       [ 2.7654135 , -3.1723309 ],\n",
              "       [ 2.4956408 , -2.9825552 ],\n",
              "       [-1.400268  ,  1.2968417 ],\n",
              "       [-2.6138453 ,  2.7641225 ],\n",
              "       [-2.6482272 ,  2.821418  ],\n",
              "       [-2.7195787 ,  2.9685895 ],\n",
              "       [ 3.1914442 , -3.5488532 ],\n",
              "       [-2.4949014 ,  2.6854057 ],\n",
              "       [ 2.2533305 , -2.6738172 ],\n",
              "       [ 2.6058285 , -3.0245779 ],\n",
              "       [-2.6395378 ,  2.7970352 ],\n",
              "       [ 3.1241136 , -3.4898505 ],\n",
              "       [ 2.5953515 , -3.0006912 ],\n",
              "       [ 3.0902424 , -3.641084  ],\n",
              "       [ 3.1779423 , -3.6474016 ],\n",
              "       [ 3.284286  , -3.7795684 ],\n",
              "       [ 3.0167897 , -3.386348  ],\n",
              "       [ 3.2739265 , -3.6848693 ],\n",
              "       [-2.6588135 ,  2.807425  ],\n",
              "       [ 1.2629237 , -1.5871645 ],\n",
              "       [-2.7166073 ,  2.8637729 ],\n",
              "       [-2.7516735 ,  2.932039  ],\n",
              "       [ 3.0381436 , -3.5562766 ],\n",
              "       [ 2.9282482 , -3.3988385 ],\n",
              "       [ 2.9279222 , -3.4332314 ],\n",
              "       [ 2.622957  , -3.0374458 ],\n",
              "       [ 1.3955133 , -1.773693  ],\n",
              "       [ 3.081701  , -3.5188634 ],\n",
              "       [ 2.5973916 , -3.0710483 ],\n",
              "       [-2.7234662 ,  2.9000986 ],\n",
              "       [ 2.6302056 , -3.1001925 ],\n",
              "       [ 3.2799401 , -3.6881678 ],\n",
              "       [-2.7165918 ,  2.9042735 ],\n",
              "       [-2.3387372 ,  2.504617  ],\n",
              "       [-2.654087  ,  2.8328938 ],\n",
              "       [ 2.7095108 , -3.1331134 ],\n",
              "       [ 3.2205386 , -3.6502702 ],\n",
              "       [ 3.075393  , -3.599871  ],\n",
              "       [ 3.3447063 , -3.850634  ]], dtype=float32), label_ids=array([1, 1, 1, 0, 0, 1, 0, 0, 1, 0, 1, 0, 1, 1, 1, 0, 0, 1, 1, 0, 1, 1,\n",
              "       1, 0, 1, 1, 0, 0, 1, 1, 0, 0, 1, 1, 0, 1, 0, 1, 1, 0, 1, 1, 1, 1,\n",
              "       1, 1, 1, 0, 0, 0, 0, 0, 0, 1, 1, 1, 0, 1, 0, 0, 1, 0, 1, 0, 1, 0,\n",
              "       0, 1, 1, 0, 1, 1, 0, 0, 1, 1, 0, 1, 1, 1, 0, 0, 0, 0, 0, 0, 0, 1,\n",
              "       0, 0, 1, 0, 0, 1, 1, 0, 1, 0, 1, 1, 0, 0, 1, 1, 1, 0, 1, 1, 0, 1,\n",
              "       0, 1, 0, 0, 1, 0, 0, 0, 0, 1, 1, 0, 1, 1, 1, 0, 0, 1, 1, 0, 1, 1,\n",
              "       0, 0, 1, 0, 0, 1, 1, 0, 1, 1, 0, 1, 1, 1, 1, 0, 1, 1, 0, 1, 0, 0,\n",
              "       0, 1, 1, 0, 0, 1, 1, 0, 0, 1, 0, 1, 1, 0, 1, 0, 0, 1, 0, 0, 0, 0,\n",
              "       0, 0, 0, 1, 0, 1, 1, 0, 0, 0, 0, 0, 0, 0, 1, 0, 0, 1, 1, 1, 0, 0,\n",
              "       0, 0]), metrics={'test_loss': 0.17498409748077393, 'test_accuracy': 0.96, 'test_runtime': 2.4157, 'test_samples_per_second': 82.793, 'test_steps_per_second': 20.698})"
            ]
          },
          "metadata": {},
          "execution_count": 24
        }
      ]
    },
    {
      "cell_type": "code",
      "source": [
        "# Get predicted logits\n",
        "test_logits = test_predict.predictions\n",
        "test_logits[:5]"
      ],
      "metadata": {
        "colab": {
          "base_uri": "https://localhost:8080/"
        },
        "id": "3LQQOyg10r2L",
        "outputId": "50423b00-0fca-442d-c56b-24dcad8059ae"
      },
      "execution_count": null,
      "outputs": [
        {
          "output_type": "execute_result",
          "data": {
            "text/plain": [
              "array([[-2.705951 ,  2.8956847],\n",
              "       [-2.739578 ,  2.9094791],\n",
              "       [-2.6946692,  2.9037418],\n",
              "       [ 2.7633934, -3.1993651],\n",
              "       [ 2.3851001, -2.8658957]], dtype=float32)"
            ]
          },
          "metadata": {},
          "execution_count": 25
        }
      ]
    },
    {
      "cell_type": "code",
      "source": [
        "# Convert logits to probabilities\n",
        "test_probabilities = tf.nn.softmax(test_logits)\n",
        "test_probabilities[:5]"
      ],
      "metadata": {
        "colab": {
          "base_uri": "https://localhost:8080/"
        },
        "id": "LbDefCZI1WWO",
        "outputId": "b0978abb-4ead-42cd-d9fe-7aeb45236e19"
      },
      "execution_count": null,
      "outputs": [
        {
          "output_type": "execute_result",
          "data": {
            "text/plain": [
              "<tf.Tensor: shape=(5, 2), dtype=float32, numpy=\n",
              "array([[0.00367824, 0.9963218 ],\n",
              "       [0.00350848, 0.9964915 ],\n",
              "       [0.00369008, 0.99630994],\n",
              "       [0.99743384, 0.0025662 ],\n",
              "       [0.994785  , 0.00521496]], dtype=float32)>"
            ]
          },
          "metadata": {},
          "execution_count": 26
        }
      ]
    },
    {
      "cell_type": "code",
      "source": [
        "# Get predicted labels\n",
        "test_predicted_labels = np.argmax(test_probabilities, axis=1)\n",
        "test_predicted_labels[:5]"
      ],
      "metadata": {
        "colab": {
          "base_uri": "https://localhost:8080/"
        },
        "id": "wqoVG-Un1u6s",
        "outputId": "1d8e969f-e83f-40a6-f46c-819fa8f4ae80"
      },
      "execution_count": null,
      "outputs": [
        {
          "output_type": "execute_result",
          "data": {
            "text/plain": [
              "array([1, 1, 1, 0, 0])"
            ]
          },
          "metadata": {},
          "execution_count": 27
        }
      ]
    },
    {
      "cell_type": "code",
      "source": [
        "# Get true labels\n",
        "test_true_labels = test_predict.label_ids\n",
        "test_true_labels[:5]"
      ],
      "metadata": {
        "colab": {
          "base_uri": "https://localhost:8080/"
        },
        "id": "2qt2pY741-V3",
        "outputId": "94d5c873-6e74-4425-b527-03b92cc43de6"
      },
      "execution_count": null,
      "outputs": [
        {
          "output_type": "execute_result",
          "data": {
            "text/plain": [
              "array([1, 1, 1, 0, 0])"
            ]
          },
          "metadata": {},
          "execution_count": 28
        }
      ]
    },
    {
      "cell_type": "markdown",
      "source": [
        "# 12. Model Performance"
      ],
      "metadata": {
        "id": "8sl_qu5PtxUG"
      }
    },
    {
      "cell_type": "code",
      "source": [
        "# accuracy\n",
        "trainer.evaluate(test_encoded)"
      ],
      "metadata": {
        "colab": {
          "base_uri": "https://localhost:8080/",
          "height": 147
        },
        "id": "oSu-BtOet9d-",
        "outputId": "adb60770-9e9e-41d9-a51b-0fb46828842f"
      },
      "execution_count": null,
      "outputs": [
        {
          "output_type": "display_data",
          "data": {
            "text/plain": [
              "<IPython.core.display.HTML object>"
            ],
            "text/html": [
              "\n",
              "    <div>\n",
              "      \n",
              "      <progress value='50' max='50' style='width:300px; height:20px; vertical-align: middle;'></progress>\n",
              "      [50/50 00:00]\n",
              "    </div>\n",
              "    "
            ]
          },
          "metadata": {}
        },
        {
          "output_type": "execute_result",
          "data": {
            "text/plain": [
              "{'eval_loss': 0.17498409748077393,\n",
              " 'eval_accuracy': 0.96,\n",
              " 'eval_runtime': 2.3069,\n",
              " 'eval_samples_per_second': 86.695,\n",
              " 'eval_steps_per_second': 21.674,\n",
              " 'epoch': 3.0}"
            ]
          },
          "metadata": {},
          "execution_count": 29
        }
      ]
    },
    {
      "cell_type": "code",
      "source": [
        "# f1 score\n",
        "\n",
        "f1 = evaluate.load('f1')\n",
        "f1.compute(predictions=test_predicted_labels, references=test_true_labels)"
      ],
      "metadata": {
        "colab": {
          "base_uri": "https://localhost:8080/"
        },
        "id": "r-BsJh0d3N1c",
        "outputId": "577be40b-1d43-48c1-dd8d-c7419b6fdc11"
      },
      "execution_count": null,
      "outputs": [
        {
          "output_type": "execute_result",
          "data": {
            "text/plain": [
              "{'f1': 0.9603960396039605}"
            ]
          },
          "metadata": {},
          "execution_count": 30
        }
      ]
    },
    {
      "cell_type": "code",
      "source": [
        "# recall\n",
        "\n",
        "recall = evaluate.load('recall')\n",
        "recall.compute(predictions=test_predicted_labels, references=test_true_labels)"
      ],
      "metadata": {
        "colab": {
          "base_uri": "https://localhost:8080/"
        },
        "id": "X2s_DZt13u07",
        "outputId": "1de10b13-ede6-4e3c-ef34-329c3e3e88ad"
      },
      "execution_count": null,
      "outputs": [
        {
          "output_type": "execute_result",
          "data": {
            "text/plain": [
              "{'recall': 0.9897959183673469}"
            ]
          },
          "metadata": {},
          "execution_count": 31
        }
      ]
    },
    {
      "cell_type": "markdown",
      "source": [
        "# 13. Save and Load Model"
      ],
      "metadata": {
        "id": "7djXGsOat_vt"
      }
    },
    {
      "cell_type": "code",
      "source": [
        "# save tokenizer\n",
        "\n",
        "tokenizer.save_pretrained('./output')"
      ],
      "metadata": {
        "colab": {
          "base_uri": "https://localhost:8080/"
        },
        "id": "R7O4N7I6uKrJ",
        "outputId": "53225c31-f87c-42d2-ebbe-764b7e3f5a94"
      },
      "execution_count": null,
      "outputs": [
        {
          "output_type": "execute_result",
          "data": {
            "text/plain": [
              "('./output/tokenizer_config.json',\n",
              " './output/special_tokens_map.json',\n",
              " './output/vocab.txt',\n",
              " './output/added_tokens.json',\n",
              " './output/tokenizer.json')"
            ]
          },
          "metadata": {},
          "execution_count": 32
        }
      ]
    },
    {
      "cell_type": "code",
      "source": [
        "# save model\n",
        "\n",
        "trainer.save_model('./output')"
      ],
      "metadata": {
        "id": "t2rfM7V-5BA1"
      },
      "execution_count": null,
      "outputs": []
    },
    {
      "cell_type": "code",
      "source": [
        "# Load tokenizer\n",
        "tokenizer = AutoTokenizer.from_pretrained('./output')\n",
        "\n",
        "# Load model\n",
        "loaded_model = AutoModelForSequenceClassification.from_pretrained('./output')\n",
        "\n"
      ],
      "metadata": {
        "id": "p0my2EzS6ucj"
      },
      "execution_count": null,
      "outputs": []
    },
    {
      "cell_type": "markdown",
      "source": [
        "![image.png](data:image/png;base64,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)"
      ],
      "metadata": {
        "id": "T-utHg8ZGnaL"
      }
    },
    {
      "cell_type": "code",
      "source": [],
      "metadata": {
        "id": "qdYa2YlFGyFg"
      },
      "execution_count": null,
      "outputs": []
    }
  ]
}